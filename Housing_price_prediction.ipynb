{
  "nbformat": 4,
  "nbformat_minor": 0,
  "metadata": {
    "kernelspec": {
      "display_name": "Python 3",
      "language": "python",
      "name": "python3"
    },
    "language_info": {
      "codemirror_mode": {
        "name": "ipython",
        "version": 3
      },
      "file_extension": ".py",
      "mimetype": "text/x-python",
      "name": "python",
      "nbconvert_exporter": "python",
      "pygments_lexer": "ipython3",
      "version": "3.6.5"
    },
    "colab": {
      "name": "Housing_end_to_end_project.ipynb",
      "provenance": [],
      "collapsed_sections": []
    }
  },
  "cells": [
    {
      "cell_type": "markdown",
      "metadata": {
        "id": "ndLT1jSzs-AO"
      },
      "source": [
        "# Function to load as tar file extract csv file"
      ]
    },
    {
      "cell_type": "code",
      "metadata": {
        "id": "4iNogmhSMi5t"
      },
      "source": [
        "# import os\n",
        "# import tarfile\n",
        "# from six.moves import urllib\n",
        "\n",
        "DOWNLOAD_ROOT = \"https://raw.githubusercontent.com/ageron/handson-ml2/master/\"\n",
        "HOUSING_PATH = os.path.join(\"datasets\", \"housing\")\n",
        "HOUSING_URL = DOWNLOAD_ROOT + \"datasets/housing/housing.tgz\""
      ],
      "execution_count": null,
      "outputs": []
    },
    {
      "cell_type": "code",
      "metadata": {
        "id": "zWVq2EkiMi5v"
      },
      "source": [
        "#since the csv dataset is in a compressed file, we are writing a function to automate the fetching csv data\n",
        "\n",
        "def fetch_housing_data(housing_url=HOUSING_URL, housing_path=HOUSING_PATH):\n",
        "    if not os.path.isdir(housing_path):\n",
        "        os.makedirs(housing_path)\n",
        "        tgz_path = os.path.join(housing_path, \"housing.tgz\")\n",
        "        urllib.request.urlretrieve(housing_url, tgz_path)\n",
        "        housing_tgz = tarfile.open(tgz_path)\n",
        "        housing_tgz.extractall(path=housing_path)\n",
        "        housing_tgz.close()\n",
        "        \n",
        "# when you call fetch_housing_data() , it creates a datasets/housing directory in\n",
        "# your workspace, downloads the housing.tgz file, and extracts the housing.csv from it in\n",
        "# this directory.\n",
        "\n",
        "fetch_housing_data()"
      ],
      "execution_count": null,
      "outputs": []
    },
    {
      "cell_type": "code",
      "metadata": {
        "id": "LnTj1x_wMi5w"
      },
      "source": [
        "import pandas as pd\n",
        "\n",
        "def load_housing_data(housing_path=HOUSING_PATH):\n",
        "    csv_path = os.path.join(housing_path, \"housing.csv\")\n",
        "    return pd.read_csv(csv_path)\n",
        "\n",
        "#This function returns a Pandas DataFrame object containing all the data."
      ],
      "execution_count": null,
      "outputs": []
    },
    {
      "cell_type": "code",
      "metadata": {
        "id": "Jjyjp8NcMi5x",
        "outputId": "a7a1f23d-e663-4c8f-bbae-3b3a54cc0ac4"
      },
      "source": [
        "housing = load_housing_data()\n",
        "housing.head()\n",
        "\n",
        "#each row represents info about each district"
      ],
      "execution_count": null,
      "outputs": [
        {
          "output_type": "execute_result",
          "data": {
            "text/html": [
              "<div>\n",
              "<style scoped>\n",
              "    .dataframe tbody tr th:only-of-type {\n",
              "        vertical-align: middle;\n",
              "    }\n",
              "\n",
              "    .dataframe tbody tr th {\n",
              "        vertical-align: top;\n",
              "    }\n",
              "\n",
              "    .dataframe thead th {\n",
              "        text-align: right;\n",
              "    }\n",
              "</style>\n",
              "<table border=\"1\" class=\"dataframe\">\n",
              "  <thead>\n",
              "    <tr style=\"text-align: right;\">\n",
              "      <th></th>\n",
              "      <th>longitude</th>\n",
              "      <th>latitude</th>\n",
              "      <th>housing_median_age</th>\n",
              "      <th>total_rooms</th>\n",
              "      <th>total_bedrooms</th>\n",
              "      <th>population</th>\n",
              "      <th>households</th>\n",
              "      <th>median_income</th>\n",
              "      <th>median_house_value</th>\n",
              "      <th>ocean_proximity</th>\n",
              "    </tr>\n",
              "  </thead>\n",
              "  <tbody>\n",
              "    <tr>\n",
              "      <th>0</th>\n",
              "      <td>-122.23</td>\n",
              "      <td>37.88</td>\n",
              "      <td>41.0</td>\n",
              "      <td>880.0</td>\n",
              "      <td>129.0</td>\n",
              "      <td>322.0</td>\n",
              "      <td>126.0</td>\n",
              "      <td>8.3252</td>\n",
              "      <td>452600.0</td>\n",
              "      <td>NEAR BAY</td>\n",
              "    </tr>\n",
              "    <tr>\n",
              "      <th>1</th>\n",
              "      <td>-122.22</td>\n",
              "      <td>37.86</td>\n",
              "      <td>21.0</td>\n",
              "      <td>7099.0</td>\n",
              "      <td>1106.0</td>\n",
              "      <td>2401.0</td>\n",
              "      <td>1138.0</td>\n",
              "      <td>8.3014</td>\n",
              "      <td>358500.0</td>\n",
              "      <td>NEAR BAY</td>\n",
              "    </tr>\n",
              "    <tr>\n",
              "      <th>2</th>\n",
              "      <td>-122.24</td>\n",
              "      <td>37.85</td>\n",
              "      <td>52.0</td>\n",
              "      <td>1467.0</td>\n",
              "      <td>190.0</td>\n",
              "      <td>496.0</td>\n",
              "      <td>177.0</td>\n",
              "      <td>7.2574</td>\n",
              "      <td>352100.0</td>\n",
              "      <td>NEAR BAY</td>\n",
              "    </tr>\n",
              "    <tr>\n",
              "      <th>3</th>\n",
              "      <td>-122.25</td>\n",
              "      <td>37.85</td>\n",
              "      <td>52.0</td>\n",
              "      <td>1274.0</td>\n",
              "      <td>235.0</td>\n",
              "      <td>558.0</td>\n",
              "      <td>219.0</td>\n",
              "      <td>5.6431</td>\n",
              "      <td>341300.0</td>\n",
              "      <td>NEAR BAY</td>\n",
              "    </tr>\n",
              "    <tr>\n",
              "      <th>4</th>\n",
              "      <td>-122.25</td>\n",
              "      <td>37.85</td>\n",
              "      <td>52.0</td>\n",
              "      <td>1627.0</td>\n",
              "      <td>280.0</td>\n",
              "      <td>565.0</td>\n",
              "      <td>259.0</td>\n",
              "      <td>3.8462</td>\n",
              "      <td>342200.0</td>\n",
              "      <td>NEAR BAY</td>\n",
              "    </tr>\n",
              "  </tbody>\n",
              "</table>\n",
              "</div>"
            ],
            "text/plain": [
              "   longitude  latitude  housing_median_age  total_rooms  total_bedrooms  \\\n",
              "0    -122.23     37.88                41.0        880.0           129.0   \n",
              "1    -122.22     37.86                21.0       7099.0          1106.0   \n",
              "2    -122.24     37.85                52.0       1467.0           190.0   \n",
              "3    -122.25     37.85                52.0       1274.0           235.0   \n",
              "4    -122.25     37.85                52.0       1627.0           280.0   \n",
              "\n",
              "   population  households  median_income  median_house_value ocean_proximity  \n",
              "0       322.0       126.0         8.3252            452600.0        NEAR BAY  \n",
              "1      2401.0      1138.0         8.3014            358500.0        NEAR BAY  \n",
              "2       496.0       177.0         7.2574            352100.0        NEAR BAY  \n",
              "3       558.0       219.0         5.6431            341300.0        NEAR BAY  \n",
              "4       565.0       259.0         3.8462            342200.0        NEAR BAY  "
            ]
          },
          "metadata": {
            "tags": []
          },
          "execution_count": 5
        }
      ]
    },
    {
      "cell_type": "markdown",
      "metadata": {
        "id": "KvbGV7rMwN7A"
      },
      "source": [
        "# Loading the csv file in usual way"
      ]
    },
    {
      "cell_type": "code",
      "metadata": {
        "colab": {
          "base_uri": "https://localhost:8080/",
          "height": 206
        },
        "id": "3k1oG2MqMi50",
        "outputId": "38dca25a-95f3-4326-d6c0-130609509af7"
      },
      "source": [
        "import pandas as pd\n",
        "import numpy as np\n",
        "\n",
        "filename = 'https://raw.githubusercontent.com/ageron/handson-ml2/master/datasets/housing/housing.csv'\n",
        "housing = pd.read_csv(filename)\n",
        "housing.head()"
      ],
      "execution_count": null,
      "outputs": [
        {
          "output_type": "execute_result",
          "data": {
            "text/html": [
              "<div>\n",
              "<style scoped>\n",
              "    .dataframe tbody tr th:only-of-type {\n",
              "        vertical-align: middle;\n",
              "    }\n",
              "\n",
              "    .dataframe tbody tr th {\n",
              "        vertical-align: top;\n",
              "    }\n",
              "\n",
              "    .dataframe thead th {\n",
              "        text-align: right;\n",
              "    }\n",
              "</style>\n",
              "<table border=\"1\" class=\"dataframe\">\n",
              "  <thead>\n",
              "    <tr style=\"text-align: right;\">\n",
              "      <th></th>\n",
              "      <th>longitude</th>\n",
              "      <th>latitude</th>\n",
              "      <th>housing_median_age</th>\n",
              "      <th>total_rooms</th>\n",
              "      <th>total_bedrooms</th>\n",
              "      <th>population</th>\n",
              "      <th>households</th>\n",
              "      <th>median_income</th>\n",
              "      <th>median_house_value</th>\n",
              "      <th>ocean_proximity</th>\n",
              "    </tr>\n",
              "  </thead>\n",
              "  <tbody>\n",
              "    <tr>\n",
              "      <th>0</th>\n",
              "      <td>-122.23</td>\n",
              "      <td>37.88</td>\n",
              "      <td>41.0</td>\n",
              "      <td>880.0</td>\n",
              "      <td>129.0</td>\n",
              "      <td>322.0</td>\n",
              "      <td>126.0</td>\n",
              "      <td>8.3252</td>\n",
              "      <td>452600.0</td>\n",
              "      <td>NEAR BAY</td>\n",
              "    </tr>\n",
              "    <tr>\n",
              "      <th>1</th>\n",
              "      <td>-122.22</td>\n",
              "      <td>37.86</td>\n",
              "      <td>21.0</td>\n",
              "      <td>7099.0</td>\n",
              "      <td>1106.0</td>\n",
              "      <td>2401.0</td>\n",
              "      <td>1138.0</td>\n",
              "      <td>8.3014</td>\n",
              "      <td>358500.0</td>\n",
              "      <td>NEAR BAY</td>\n",
              "    </tr>\n",
              "    <tr>\n",
              "      <th>2</th>\n",
              "      <td>-122.24</td>\n",
              "      <td>37.85</td>\n",
              "      <td>52.0</td>\n",
              "      <td>1467.0</td>\n",
              "      <td>190.0</td>\n",
              "      <td>496.0</td>\n",
              "      <td>177.0</td>\n",
              "      <td>7.2574</td>\n",
              "      <td>352100.0</td>\n",
              "      <td>NEAR BAY</td>\n",
              "    </tr>\n",
              "    <tr>\n",
              "      <th>3</th>\n",
              "      <td>-122.25</td>\n",
              "      <td>37.85</td>\n",
              "      <td>52.0</td>\n",
              "      <td>1274.0</td>\n",
              "      <td>235.0</td>\n",
              "      <td>558.0</td>\n",
              "      <td>219.0</td>\n",
              "      <td>5.6431</td>\n",
              "      <td>341300.0</td>\n",
              "      <td>NEAR BAY</td>\n",
              "    </tr>\n",
              "    <tr>\n",
              "      <th>4</th>\n",
              "      <td>-122.25</td>\n",
              "      <td>37.85</td>\n",
              "      <td>52.0</td>\n",
              "      <td>1627.0</td>\n",
              "      <td>280.0</td>\n",
              "      <td>565.0</td>\n",
              "      <td>259.0</td>\n",
              "      <td>3.8462</td>\n",
              "      <td>342200.0</td>\n",
              "      <td>NEAR BAY</td>\n",
              "    </tr>\n",
              "  </tbody>\n",
              "</table>\n",
              "</div>"
            ],
            "text/plain": [
              "   longitude  latitude  ...  median_house_value  ocean_proximity\n",
              "0    -122.23     37.88  ...            452600.0         NEAR BAY\n",
              "1    -122.22     37.86  ...            358500.0         NEAR BAY\n",
              "2    -122.24     37.85  ...            352100.0         NEAR BAY\n",
              "3    -122.25     37.85  ...            341300.0         NEAR BAY\n",
              "4    -122.25     37.85  ...            342200.0         NEAR BAY\n",
              "\n",
              "[5 rows x 10 columns]"
            ]
          },
          "metadata": {
            "tags": []
          },
          "execution_count": 1
        }
      ]
    },
    {
      "cell_type": "code",
      "metadata": {
        "colab": {
          "base_uri": "https://localhost:8080/"
        },
        "id": "9Cg7cfGQOry8",
        "outputId": "1d0a89b8-580b-4159-bcd9-3d52583a0f93"
      },
      "source": [
        "housing.info()"
      ],
      "execution_count": null,
      "outputs": [
        {
          "output_type": "stream",
          "text": [
            "<class 'pandas.core.frame.DataFrame'>\n",
            "RangeIndex: 20640 entries, 0 to 20639\n",
            "Data columns (total 10 columns):\n",
            " #   Column              Non-Null Count  Dtype  \n",
            "---  ------              --------------  -----  \n",
            " 0   longitude           20640 non-null  float64\n",
            " 1   latitude            20640 non-null  float64\n",
            " 2   housing_median_age  20640 non-null  float64\n",
            " 3   total_rooms         20640 non-null  float64\n",
            " 4   total_bedrooms      20433 non-null  float64\n",
            " 5   population          20640 non-null  float64\n",
            " 6   households          20640 non-null  float64\n",
            " 7   median_income       20640 non-null  float64\n",
            " 8   median_house_value  20640 non-null  float64\n",
            " 9   ocean_proximity     20640 non-null  object \n",
            "dtypes: float64(9), object(1)\n",
            "memory usage: 1.6+ MB\n"
          ],
          "name": "stdout"
        }
      ]
    },
    {
      "cell_type": "code",
      "metadata": {
        "id": "vqVMB2xCMi52",
        "outputId": "346264f3-6f85-404b-ff15-d0d91087c4d4"
      },
      "source": [
        "housing.info()\n",
        "\n",
        "\n",
        "# Notice that the total_bed_ rooms attribute has only 20,433 non-null values, meaning that 207 districts are miss‐\n",
        "# ing this feature. We will need to take care of this later."
      ],
      "execution_count": null,
      "outputs": [
        {
          "output_type": "stream",
          "text": [
            "<class 'pandas.core.frame.DataFrame'>\n",
            "RangeIndex: 20640 entries, 0 to 20639\n",
            "Data columns (total 10 columns):\n",
            "longitude             20640 non-null float64\n",
            "latitude              20640 non-null float64\n",
            "housing_median_age    20640 non-null float64\n",
            "total_rooms           20640 non-null float64\n",
            "total_bedrooms        20433 non-null float64\n",
            "population            20640 non-null float64\n",
            "households            20640 non-null float64\n",
            "median_income         20640 non-null float64\n",
            "median_house_value    20640 non-null float64\n",
            "ocean_proximity       20640 non-null object\n",
            "dtypes: float64(9), object(1)\n",
            "memory usage: 1.6+ MB\n"
          ],
          "name": "stdout"
        }
      ]
    },
    {
      "cell_type": "code",
      "metadata": {
        "id": "VyV3i-8jMi54",
        "outputId": "eb78d1ef-a600-45b2-f490-bc6b674ffb69"
      },
      "source": [
        "# All attributes are numerical, except the ocean_proximity field. Its type is object , so it\n",
        "# could hold any kind of Python object, but since you loaded this data from a CSV file\n",
        "# you know that it must be a text attribute. When you looked at the top five rows, you\n",
        "# probably noticed that the values in the ocean_proximity column were repetitive,\n",
        "# which means that it is probably a categorical attribute. You can find out what cate‐\n",
        "# gories exist and how many districts belong to each category by using the\n",
        "# value_counts() method:\n",
        "\n",
        "housing[\"ocean_proximity\"].value_counts()"
      ],
      "execution_count": null,
      "outputs": [
        {
          "output_type": "execute_result",
          "data": {
            "text/plain": [
              "<1H OCEAN     9136\n",
              "INLAND        6551\n",
              "NEAR OCEAN    2658\n",
              "NEAR BAY      2290\n",
              "ISLAND           5\n",
              "Name: ocean_proximity, dtype: int64"
            ]
          },
          "metadata": {
            "tags": []
          },
          "execution_count": 7
        }
      ]
    },
    {
      "cell_type": "code",
      "metadata": {
        "id": "6hMHWpyeMi56",
        "outputId": "e6bfcb57-91a6-49e9-c8b5-3a465cbf796b"
      },
      "source": [
        "# The describe() method shows a summary of the numerical attributes\n",
        "\n",
        "housing.describe()\n",
        "\n",
        "# The std row shows the standard deviation, which measures how dispersed the values are.\n",
        "# The 25%, 50%, and 75% rows show the corresponding percentiles: a percentile indicates the \n",
        "# value below which a given percentage of observations in a group of observa‐\n",
        "# tions falls. For example, 25% of the districts have a housing_median_age lower than\n",
        "# 18, while 50% are lower than 29 and 75% are lower than 37. These are often called the\n",
        "# 25 th percentile (or 1 st quartile), the median, and the 75 th percentile (or 3 rd quartile)"
      ],
      "execution_count": null,
      "outputs": [
        {
          "output_type": "execute_result",
          "data": {
            "text/html": [
              "<div>\n",
              "<style scoped>\n",
              "    .dataframe tbody tr th:only-of-type {\n",
              "        vertical-align: middle;\n",
              "    }\n",
              "\n",
              "    .dataframe tbody tr th {\n",
              "        vertical-align: top;\n",
              "    }\n",
              "\n",
              "    .dataframe thead th {\n",
              "        text-align: right;\n",
              "    }\n",
              "</style>\n",
              "<table border=\"1\" class=\"dataframe\">\n",
              "  <thead>\n",
              "    <tr style=\"text-align: right;\">\n",
              "      <th></th>\n",
              "      <th>longitude</th>\n",
              "      <th>latitude</th>\n",
              "      <th>housing_median_age</th>\n",
              "      <th>total_rooms</th>\n",
              "      <th>total_bedrooms</th>\n",
              "      <th>population</th>\n",
              "      <th>households</th>\n",
              "      <th>median_income</th>\n",
              "      <th>median_house_value</th>\n",
              "    </tr>\n",
              "  </thead>\n",
              "  <tbody>\n",
              "    <tr>\n",
              "      <th>count</th>\n",
              "      <td>20640.000000</td>\n",
              "      <td>20640.000000</td>\n",
              "      <td>20640.000000</td>\n",
              "      <td>20640.000000</td>\n",
              "      <td>20433.000000</td>\n",
              "      <td>20640.000000</td>\n",
              "      <td>20640.000000</td>\n",
              "      <td>20640.000000</td>\n",
              "      <td>20640.000000</td>\n",
              "    </tr>\n",
              "    <tr>\n",
              "      <th>mean</th>\n",
              "      <td>-119.569704</td>\n",
              "      <td>35.631861</td>\n",
              "      <td>28.639486</td>\n",
              "      <td>2635.763081</td>\n",
              "      <td>537.870553</td>\n",
              "      <td>1425.476744</td>\n",
              "      <td>499.539680</td>\n",
              "      <td>3.870671</td>\n",
              "      <td>206855.816909</td>\n",
              "    </tr>\n",
              "    <tr>\n",
              "      <th>std</th>\n",
              "      <td>2.003532</td>\n",
              "      <td>2.135952</td>\n",
              "      <td>12.585558</td>\n",
              "      <td>2181.615252</td>\n",
              "      <td>421.385070</td>\n",
              "      <td>1132.462122</td>\n",
              "      <td>382.329753</td>\n",
              "      <td>1.899822</td>\n",
              "      <td>115395.615874</td>\n",
              "    </tr>\n",
              "    <tr>\n",
              "      <th>min</th>\n",
              "      <td>-124.350000</td>\n",
              "      <td>32.540000</td>\n",
              "      <td>1.000000</td>\n",
              "      <td>2.000000</td>\n",
              "      <td>1.000000</td>\n",
              "      <td>3.000000</td>\n",
              "      <td>1.000000</td>\n",
              "      <td>0.499900</td>\n",
              "      <td>14999.000000</td>\n",
              "    </tr>\n",
              "    <tr>\n",
              "      <th>25%</th>\n",
              "      <td>-121.800000</td>\n",
              "      <td>33.930000</td>\n",
              "      <td>18.000000</td>\n",
              "      <td>1447.750000</td>\n",
              "      <td>296.000000</td>\n",
              "      <td>787.000000</td>\n",
              "      <td>280.000000</td>\n",
              "      <td>2.563400</td>\n",
              "      <td>119600.000000</td>\n",
              "    </tr>\n",
              "    <tr>\n",
              "      <th>50%</th>\n",
              "      <td>-118.490000</td>\n",
              "      <td>34.260000</td>\n",
              "      <td>29.000000</td>\n",
              "      <td>2127.000000</td>\n",
              "      <td>435.000000</td>\n",
              "      <td>1166.000000</td>\n",
              "      <td>409.000000</td>\n",
              "      <td>3.534800</td>\n",
              "      <td>179700.000000</td>\n",
              "    </tr>\n",
              "    <tr>\n",
              "      <th>75%</th>\n",
              "      <td>-118.010000</td>\n",
              "      <td>37.710000</td>\n",
              "      <td>37.000000</td>\n",
              "      <td>3148.000000</td>\n",
              "      <td>647.000000</td>\n",
              "      <td>1725.000000</td>\n",
              "      <td>605.000000</td>\n",
              "      <td>4.743250</td>\n",
              "      <td>264725.000000</td>\n",
              "    </tr>\n",
              "    <tr>\n",
              "      <th>max</th>\n",
              "      <td>-114.310000</td>\n",
              "      <td>41.950000</td>\n",
              "      <td>52.000000</td>\n",
              "      <td>39320.000000</td>\n",
              "      <td>6445.000000</td>\n",
              "      <td>35682.000000</td>\n",
              "      <td>6082.000000</td>\n",
              "      <td>15.000100</td>\n",
              "      <td>500001.000000</td>\n",
              "    </tr>\n",
              "  </tbody>\n",
              "</table>\n",
              "</div>"
            ],
            "text/plain": [
              "          longitude      latitude  housing_median_age   total_rooms  \\\n",
              "count  20640.000000  20640.000000        20640.000000  20640.000000   \n",
              "mean    -119.569704     35.631861           28.639486   2635.763081   \n",
              "std        2.003532      2.135952           12.585558   2181.615252   \n",
              "min     -124.350000     32.540000            1.000000      2.000000   \n",
              "25%     -121.800000     33.930000           18.000000   1447.750000   \n",
              "50%     -118.490000     34.260000           29.000000   2127.000000   \n",
              "75%     -118.010000     37.710000           37.000000   3148.000000   \n",
              "max     -114.310000     41.950000           52.000000  39320.000000   \n",
              "\n",
              "       total_bedrooms    population    households  median_income  \\\n",
              "count    20433.000000  20640.000000  20640.000000   20640.000000   \n",
              "mean       537.870553   1425.476744    499.539680       3.870671   \n",
              "std        421.385070   1132.462122    382.329753       1.899822   \n",
              "min          1.000000      3.000000      1.000000       0.499900   \n",
              "25%        296.000000    787.000000    280.000000       2.563400   \n",
              "50%        435.000000   1166.000000    409.000000       3.534800   \n",
              "75%        647.000000   1725.000000    605.000000       4.743250   \n",
              "max       6445.000000  35682.000000   6082.000000      15.000100   \n",
              "\n",
              "       median_house_value  \n",
              "count        20640.000000  \n",
              "mean        206855.816909  \n",
              "std         115395.615874  \n",
              "min          14999.000000  \n",
              "25%         119600.000000  \n",
              "50%         179700.000000  \n",
              "75%         264725.000000  \n",
              "max         500001.000000  "
            ]
          },
          "metadata": {
            "tags": []
          },
          "execution_count": 8
        }
      ]
    },
    {
      "cell_type": "markdown",
      "metadata": {
        "id": "NhWSli8uwhJ7"
      },
      "source": [
        "# Plotting histograms to visualize"
      ]
    },
    {
      "cell_type": "markdown",
      "metadata": {
        "id": "FjVh0M_DwoVl"
      },
      "source": [
        "Another quick way to get a feel of the type of data you are dealing with is to plot a histogram for each numerical attribute."
      ]
    },
    {
      "cell_type": "code",
      "metadata": {
        "id": "BpIpaVjJMi5-",
        "outputId": "e7d64d4f-82b0-4d12-8bb2-4a5b5e293d9a"
      },
      "source": [
        "#Another quick way to get a feel of the type of data you are dealing with is to plot a\n",
        "#histogram for each numerical attribute.\n",
        "\n",
        "# A histogram shows the number of instances\n",
        "# (on the vertical axis) that have a given value range (on the horizontal axis). You can\n",
        "# either plot this one attribute at a time, or you can call the hist() method on the\n",
        "# whole dataset, and it will plot a histogram for each numerical attribute\n",
        "\n",
        "%matplotlib inline\n",
        "import matplotlib.pyplot as plt\n",
        "housing.hist(bins=50, figsize=(20,15))\n",
        "plt.show() #calling show() is optional in a Jupyter notebook, as Jupyter will automatically display plots when a cell is executed.\n",
        "\n",
        "# The hist() method relies on Matplotlib, which in turn relies on a\n",
        "# user-specified graphical backend to draw on your screen. So before\n",
        "# you can plot anything, you need to specify which backend Matplot‐\n",
        "# lib should use. The simplest option is to use Jupyter’s magic com‐\n",
        "# mand %matplotlib inline . This tells Jupyter to set up Matplotlib\n",
        "# so it uses Jupyter’s own backend. Plots are then rendered within the\n",
        "# notebook itself."
      ],
      "execution_count": null,
      "outputs": [
        {
          "output_type": "display_data",
          "data": {
            "image/png": "[encoded data removed]",
            "text/plain": [
              "<Figure size 1440x1080 with 9 Axes>"
            ]
          },
          "metadata": {
            "tags": []
          }
        }
      ]
    },
    {
      "cell_type": "markdown",
      "metadata": {
        "id": "zB8mv8AsS5i4"
      },
      "source": [
        "Notice a few things in these histograms:\n",
        "\n",
        "1) First, the median income attribute does not look like it is expressed in US dollars\n",
        "(USD). After checking with the team that collected the data, you are told that the\n",
        "data has been scaled and capped at 15 (actually 15.0001) for higher median\n",
        "incomes, and at 0.5 (actually 0.4999) for lower median incomes. The numbers\n",
        "represent roughly tens of thousands of dollars (e.g., 3 actually means about\n",
        "$30,000). Working with preprocessed attributes is common in Machine Learning,\n",
        "and it is not necessarily a problem, but you should try to understand how the\n",
        "data was computed.\n",
        "\n",
        "2. The housing median age and the median house value were also capped. The lat‐\n",
        "ter may be a serious problem since it is your target attribute (your labels). Your\n",
        "Machine Learning algorithms may learn that prices never go beyond that limit.\n",
        "You need to check with your client team (the team that will use your system’s out‐\n",
        "put) to see if this is a problem or not. If they tell you that they need precise pre‐\n",
        "dictions even beyond $500,000, then you have mainly two options:\n",
        "    a. Collect proper labels for the districts whose labels were capped.\n",
        "    b. Remove those districts from the training set (and also from the test set, since\n",
        "    your system should not be evaluated poorly if it predicts values beyond\n",
        "    $500,000).\n",
        "\n",
        "3. These attributes have very different scales. We will discuss this later in this chap‐\n",
        "ter when we explore feature scaling.\n",
        "\n",
        "4. Finally, many histograms are tail heavy: they extend much farther to the right of\n",
        "the median than to the left. This may make it a bit harder for some Machine\n",
        "Learning algorithms to detect patterns. We will try transforming these attributes\n",
        "later on to have more bell-shaped distributions."
      ]
    },
    {
      "cell_type": "markdown",
      "metadata": {
        "id": "gKGlYcEww3EU"
      },
      "source": [
        "# Creating test set using random sampling"
      ]
    },
    {
      "cell_type": "markdown",
      "metadata": {
        "id": "hbtIeZ8qTBNf"
      },
      "source": [
        "CREATE A TEST SET\n",
        "\n",
        "Creating a test set is theoretically quite simple: just pick some instances randomly,\n",
        "typically 20% of the dataset (or less if your dataset is very large)"
      ]
    },
    {
      "cell_type": "code",
      "metadata": {
        "id": "YuLRUS9wMi6B"
      },
      "source": [
        "# Scikit-Learn provides a few functions to split datasets into multiple subsets in various ways. \n",
        "#The simplest function is train_test_split\n",
        "\n",
        "from sklearn.model_selection import train_test_split\n",
        "train_set, test_set = train_test_split(housing, test_size=0.2, random_state=42)\n",
        "\n",
        "#here we are creating 20% of total data as test data. we use random_state parameter that allows us to set a \n",
        "# random number generator's seed so that it always generates same shuffled indices when load it in subsequesnt runs"
      ],
      "execution_count": null,
      "outputs": []
    },
    {
      "cell_type": "markdown",
      "metadata": {
        "id": "IGu8XCblxCG3"
      },
      "source": [
        "# Using statified sampling to split train and test set\n",
        "\n",
        "So far we have considered purely random sampling methods. This is generally fine if your dataset is large enough (especially relative to the number of attributes), but if it is not, you run the risk of introducing a significant sampling bias.\n",
        "in such case, we use stratified sampling: the population is divided into homogeneous subgroups called strata,and the right number of instances is sampled from each stratum to guarantee that the test set is representative of the overall population.\n",
        "Suppose median income is a very important attribute to predict median housing prices so you want to ensure that test set is representative of the various categories of incomes in the whole dataset.\n",
        "Since the median income is a continuous numerical attribute, you first need to create an income category attribute.\n",
        "so looking at the medin incone hiostpgram, most median income values are clustered around 1.5 to 6 (ie $15,000–$60,000) but some median incomes go far beyond 6.\n",
        "\n",
        "It is important to have  sufficient number of instances in your dataset for each stratum, or else the estimate\n",
        "of the stratum’s importance may be biased. This means that you should not have too many strata, and each stratum should be large enough."
      ]
    },
    {
      "cell_type": "code",
      "metadata": {
        "id": "Ftf4L_s0Mi6D"
      },
      "source": [
        "# The following code uses the\n",
        "# pd.cut() function to create an income category attribute with 5 categories (labeled from 1 to 5)\n",
        "# category 1 ranges from 0 to 1.5 (i.e., less than $15,000), category 2 from 1.5 to 3, and so on:\n",
        "\n",
        "\n",
        "housing[\"income_cat\"] = pd.cut(housing[\"median_income\"],\n",
        "bins=[0., 1.5, 3.0, 4.5, 6., np.inf],\n",
        "labels=[1, 2, 3, 4, 5])\n"
      ],
      "execution_count": null,
      "outputs": []
    },
    {
      "cell_type": "code",
      "metadata": {
        "colab": {
          "base_uri": "https://localhost:8080/",
          "height": 282
        },
        "id": "IbTdlCwpMi6D",
        "outputId": "74758143-212c-4640-b014-0d8d6fc76e5f"
      },
      "source": [
        "housing['income_cat'].hist()"
      ],
      "execution_count": null,
      "outputs": [
        {
          "output_type": "execute_result",
          "data": {
            "text/plain": [
              "<matplotlib.axes._subplots.AxesSubplot at 0x7f3c37f98a58>"
            ]
          },
          "metadata": {
            "tags": []
          },
          "execution_count": 5
        },
        {
          "output_type": "display_data",
          "data": {
            "image/png": "[encoded data removed]",
            "text/plain": [
              "<Figure size 432x288 with 1 Axes>"
            ]
          },
          "metadata": {
            "tags": [],
            "needs_background": "light"
          }
        }
      ]
    },
    {
      "cell_type": "code",
      "metadata": {
        "id": "GWbQeD2KMi6E"
      },
      "source": [
        "# Now you are ready to do stratified sampling based on the income category. For this\n",
        "# you can use Scikit-Learn’s StratifiedShuffleSplit class\n",
        "\n",
        "from sklearn.model_selection import StratifiedShuffleSplit\n",
        "\n",
        "split = StratifiedShuffleSplit(n_splits=1, test_size=0.2, random_state=42)\n",
        "for train_index, test_index in split.split(housing, housing[\"income_cat\"]):\n",
        "    strat_train_set = housing.loc[train_index]\n",
        "    strat_test_set = housing.loc[test_index]"
      ],
      "execution_count": null,
      "outputs": []
    },
    {
      "cell_type": "code",
      "metadata": {
        "colab": {
          "base_uri": "https://localhost:8080/",
          "height": 226
        },
        "id": "KxVjCrtgMi6F",
        "outputId": "8239d0c3-459d-453d-c030-999d492501a7"
      },
      "source": [
        "# Let’s see if this worked as expected.\n",
        "\n",
        "strat_test_set.head()"
      ],
      "execution_count": null,
      "outputs": [
        {
          "output_type": "execute_result",
          "data": {
            "text/html": [
              "<div>\n",
              "<style scoped>\n",
              "    .dataframe tbody tr th:only-of-type {\n",
              "        vertical-align: middle;\n",
              "    }\n",
              "\n",
              "    .dataframe tbody tr th {\n",
              "        vertical-align: top;\n",
              "    }\n",
              "\n",
              "    .dataframe thead th {\n",
              "        text-align: right;\n",
              "    }\n",
              "</style>\n",
              "<table border=\"1\" class=\"dataframe\">\n",
              "  <thead>\n",
              "    <tr style=\"text-align: right;\">\n",
              "      <th></th>\n",
              "      <th>longitude</th>\n",
              "      <th>latitude</th>\n",
              "      <th>housing_median_age</th>\n",
              "      <th>total_rooms</th>\n",
              "      <th>total_bedrooms</th>\n",
              "      <th>population</th>\n",
              "      <th>households</th>\n",
              "      <th>median_income</th>\n",
              "      <th>median_house_value</th>\n",
              "      <th>ocean_proximity</th>\n",
              "      <th>income_cat</th>\n",
              "    </tr>\n",
              "  </thead>\n",
              "  <tbody>\n",
              "    <tr>\n",
              "      <th>5241</th>\n",
              "      <td>-118.39</td>\n",
              "      <td>34.12</td>\n",
              "      <td>29.0</td>\n",
              "      <td>6447.0</td>\n",
              "      <td>1012.0</td>\n",
              "      <td>2184.0</td>\n",
              "      <td>960.0</td>\n",
              "      <td>8.2816</td>\n",
              "      <td>500001.0</td>\n",
              "      <td>&lt;1H OCEAN</td>\n",
              "      <td>5</td>\n",
              "    </tr>\n",
              "    <tr>\n",
              "      <th>10970</th>\n",
              "      <td>-117.86</td>\n",
              "      <td>33.77</td>\n",
              "      <td>39.0</td>\n",
              "      <td>4159.0</td>\n",
              "      <td>655.0</td>\n",
              "      <td>1669.0</td>\n",
              "      <td>651.0</td>\n",
              "      <td>4.6111</td>\n",
              "      <td>240300.0</td>\n",
              "      <td>&lt;1H OCEAN</td>\n",
              "      <td>4</td>\n",
              "    </tr>\n",
              "    <tr>\n",
              "      <th>20351</th>\n",
              "      <td>-119.05</td>\n",
              "      <td>34.21</td>\n",
              "      <td>27.0</td>\n",
              "      <td>4357.0</td>\n",
              "      <td>926.0</td>\n",
              "      <td>2110.0</td>\n",
              "      <td>876.0</td>\n",
              "      <td>3.0119</td>\n",
              "      <td>218200.0</td>\n",
              "      <td>&lt;1H OCEAN</td>\n",
              "      <td>3</td>\n",
              "    </tr>\n",
              "    <tr>\n",
              "      <th>6568</th>\n",
              "      <td>-118.15</td>\n",
              "      <td>34.20</td>\n",
              "      <td>52.0</td>\n",
              "      <td>1786.0</td>\n",
              "      <td>306.0</td>\n",
              "      <td>1018.0</td>\n",
              "      <td>322.0</td>\n",
              "      <td>4.1518</td>\n",
              "      <td>182100.0</td>\n",
              "      <td>INLAND</td>\n",
              "      <td>3</td>\n",
              "    </tr>\n",
              "    <tr>\n",
              "      <th>13285</th>\n",
              "      <td>-117.68</td>\n",
              "      <td>34.07</td>\n",
              "      <td>32.0</td>\n",
              "      <td>1775.0</td>\n",
              "      <td>314.0</td>\n",
              "      <td>1067.0</td>\n",
              "      <td>302.0</td>\n",
              "      <td>4.0375</td>\n",
              "      <td>121300.0</td>\n",
              "      <td>INLAND</td>\n",
              "      <td>3</td>\n",
              "    </tr>\n",
              "  </tbody>\n",
              "</table>\n",
              "</div>"
            ],
            "text/plain": [
              "       longitude  latitude  ...  ocean_proximity  income_cat\n",
              "5241     -118.39     34.12  ...        <1H OCEAN           5\n",
              "10970    -117.86     33.77  ...        <1H OCEAN           4\n",
              "20351    -119.05     34.21  ...        <1H OCEAN           3\n",
              "6568     -118.15     34.20  ...           INLAND           3\n",
              "13285    -117.68     34.07  ...           INLAND           3\n",
              "\n",
              "[5 rows x 11 columns]"
            ]
          },
          "metadata": {
            "tags": []
          },
          "execution_count": 7
        }
      ]
    },
    {
      "cell_type": "code",
      "metadata": {
        "id": "tsQouDIVMi6F",
        "colab": {
          "base_uri": "https://localhost:8080/"
        },
        "outputId": "be7b68a2-058c-486e-e29c-60760772d2cd"
      },
      "source": [
        "strat_test_set[\"income_cat\"].value_counts()"
      ],
      "execution_count": null,
      "outputs": [
        {
          "output_type": "execute_result",
          "data": {
            "text/plain": [
              "3    1447\n",
              "2    1316\n",
              "4     728\n",
              "5     473\n",
              "1     164\n",
              "Name: income_cat, dtype: int64"
            ]
          },
          "metadata": {
            "tags": []
          },
          "execution_count": 8
        }
      ]
    },
    {
      "cell_type": "code",
      "metadata": {
        "colab": {
          "base_uri": "https://localhost:8080/"
        },
        "id": "yNR8LnRWMi6F",
        "outputId": "c8d811ab-f9ac-4785-db65-55daece98a2d"
      },
      "source": [
        "strat_test_set[\"income_cat\"].value_counts() / len(strat_test_set)\n",
        "\n",
        "# thus we made it sure that there are sufficient number of instances in your dataset for each stratum,"
      ],
      "execution_count": null,
      "outputs": [
        {
          "output_type": "execute_result",
          "data": {
            "text/plain": [
              "3    0.350533\n",
              "2    0.318798\n",
              "4    0.176357\n",
              "5    0.114583\n",
              "1    0.039729\n",
              "Name: income_cat, dtype: float64"
            ]
          },
          "metadata": {
            "tags": []
          },
          "execution_count": 7
        }
      ]
    },
    {
      "cell_type": "code",
      "metadata": {
        "id": "8aphfUpnMi6G"
      },
      "source": [
        "# further we can compare the income category proportions in the overall dataset, in\n",
        "# the test set generated with stratified sampling, and in a test set generated using purely random sampling. \n",
        "# the test set generated using stratified sampling has income category proportions \n",
        "#almost identical to those in the full dataset. but the code for showing the comparison table is not given in book"
      ],
      "execution_count": null,
      "outputs": []
    },
    {
      "cell_type": "markdown",
      "metadata": {
        "id": "S7KfS04txaao"
      },
      "source": [
        "# Removing income category attribute and back to original state"
      ]
    },
    {
      "cell_type": "markdown",
      "metadata": {
        "id": "DkV5_nwXTThC"
      },
      "source": [
        "so we have created the train and test data wthout causing sampling bias to the median income parameter since that is very important in our prediction.\n",
        "Now you should remove the income_cat attribute so the data is back to its original state:"
      ]
    },
    {
      "cell_type": "code",
      "metadata": {
        "id": "CiP9xxOVMi6I"
      },
      "source": [
        "\n",
        "for set_ in (strat_train_set, strat_test_set):\n",
        "    set_.drop(\"income_cat\", axis=1, inplace=True)"
      ],
      "execution_count": null,
      "outputs": []
    },
    {
      "cell_type": "markdown",
      "metadata": {
        "id": "_IsyeX0ZTjAj"
      },
      "source": [
        "We spent quite a bit of time on test set generation for a good reason: this is an often\n",
        "neglected but critical part of a Machine Learning project. Moreover, many of these\n",
        "ideas will be useful later when we discuss cross-validation. Now it’s time to move on\n",
        "to the next stage: exploring the data."
      ]
    },
    {
      "cell_type": "markdown",
      "metadata": {
        "id": "XZAcupGeMi6I"
      },
      "source": [
        "# Discover and Visualize the Data to Gain Insights"
      ]
    },
    {
      "cell_type": "markdown",
      "metadata": {
        "id": "BCfPwk-sTn9_"
      },
      "source": [
        "so far we took a quick glance on data, here lets go in depth.\n",
        "First, make sure you have put the test set aside and you are only exploring the training set"
      ]
    },
    {
      "cell_type": "code",
      "metadata": {
        "id": "fRPzn9HFMi6K"
      },
      "source": [
        "housing = strat_train_set.copy()"
      ],
      "execution_count": null,
      "outputs": []
    },
    {
      "cell_type": "code",
      "metadata": {
        "id": "pCpcyEGXMi6K",
        "colab": {
          "base_uri": "https://localhost:8080/",
          "height": 101
        },
        "outputId": "4b2f6f0f-ecda-4eda-f0e2-d43bff09cb5e"
      },
      "source": [
        "housing.head(1)"
      ],
      "execution_count": null,
      "outputs": [
        {
          "output_type": "execute_result",
          "data": {
            "text/html": [
              "<div>\n",
              "<style scoped>\n",
              "    .dataframe tbody tr th:only-of-type {\n",
              "        vertical-align: middle;\n",
              "    }\n",
              "\n",
              "    .dataframe tbody tr th {\n",
              "        vertical-align: top;\n",
              "    }\n",
              "\n",
              "    .dataframe thead th {\n",
              "        text-align: right;\n",
              "    }\n",
              "</style>\n",
              "<table border=\"1\" class=\"dataframe\">\n",
              "  <thead>\n",
              "    <tr style=\"text-align: right;\">\n",
              "      <th></th>\n",
              "      <th>longitude</th>\n",
              "      <th>latitude</th>\n",
              "      <th>housing_median_age</th>\n",
              "      <th>total_rooms</th>\n",
              "      <th>total_bedrooms</th>\n",
              "      <th>population</th>\n",
              "      <th>households</th>\n",
              "      <th>median_income</th>\n",
              "      <th>median_house_value</th>\n",
              "      <th>ocean_proximity</th>\n",
              "    </tr>\n",
              "  </thead>\n",
              "  <tbody>\n",
              "    <tr>\n",
              "      <th>17606</th>\n",
              "      <td>-121.89</td>\n",
              "      <td>37.29</td>\n",
              "      <td>38.0</td>\n",
              "      <td>1568.0</td>\n",
              "      <td>351.0</td>\n",
              "      <td>710.0</td>\n",
              "      <td>339.0</td>\n",
              "      <td>2.7042</td>\n",
              "      <td>286600.0</td>\n",
              "      <td>&lt;1H OCEAN</td>\n",
              "    </tr>\n",
              "  </tbody>\n",
              "</table>\n",
              "</div>"
            ],
            "text/plain": [
              "       longitude  latitude  ...  median_house_value  ocean_proximity\n",
              "17606    -121.89     37.29  ...            286600.0        <1H OCEAN\n",
              "\n",
              "[1 rows x 10 columns]"
            ]
          },
          "metadata": {
            "tags": []
          },
          "execution_count": 10
        }
      ]
    },
    {
      "cell_type": "markdown",
      "metadata": {
        "id": "oMjYr5apMi6L"
      },
      "source": [
        "Visualizing Geographical Data"
      ]
    },
    {
      "cell_type": "code",
      "metadata": {
        "id": "LavscJoCMi6L",
        "outputId": "f15b3c3a-f93a-45e3-a9f1-49df958a3364"
      },
      "source": [
        "#since there is geo information, using sactter plot to visualize the data\n",
        "housing.plot(kind=\"scatter\", x=\"longitude\", y=\"latitude\")"
      ],
      "execution_count": null,
      "outputs": [
        {
          "output_type": "execute_result",
          "data": {
            "text/plain": [
              "<matplotlib.axes._subplots.AxesSubplot at 0x7f8fb3100828>"
            ]
          },
          "metadata": {
            "tags": []
          },
          "execution_count": 26
        },
        {
          "output_type": "display_data",
          "data": {
            "image/png": "[encoded data removed]",
            "text/plain": [
              "<Figure size 432x288 with 1 Axes>"
            ]
          },
          "metadata": {
            "tags": []
          }
        }
      ]
    },
    {
      "cell_type": "markdown",
      "metadata": {
        "id": "5b8ZlupiTyXJ"
      },
      "source": [
        "This looks like California all right, but other than that it is hard to see any particular\n",
        "pattern. Setting the alpha option to 0.1 makes it much easier to visualize the places\n",
        "where there is a high density of data point"
      ]
    },
    {
      "cell_type": "code",
      "metadata": {
        "id": "Jq5Rd-t8Mi6M",
        "outputId": "6649d01b-4aea-4c45-ff52-bc02217b7004"
      },
      "source": [
        "housing.plot(kind=\"scatter\", x=\"longitude\", y=\"latitude\", alpha = 0.1)"
      ],
      "execution_count": null,
      "outputs": [
        {
          "output_type": "execute_result",
          "data": {
            "text/plain": [
              "<matplotlib.axes._subplots.AxesSubplot at 0x7f8faa016908>"
            ]
          },
          "metadata": {
            "tags": []
          },
          "execution_count": 27
        },
        {
          "output_type": "display_data",
          "data": {
            "image/png": "[encoded data removed]",
            "text/plain": [
              "<Figure size 432x288 with 1 Axes>"
            ]
          },
          "metadata": {
            "tags": []
          }
        }
      ]
    },
    {
      "cell_type": "markdown",
      "metadata": {
        "id": "9jWQq_eLT5ln"
      },
      "source": [
        "Now that’s much better: you can clearly see the high-density areas, namely the Bay\n",
        "Area and around Los Angeles and San Diego,"
      ]
    },
    {
      "cell_type": "markdown",
      "metadata": {
        "id": "Fuix-qatMi6O"
      },
      "source": [
        "Looking for Correlations"
      ]
    },
    {
      "cell_type": "markdown",
      "metadata": {
        "id": "8lQQvi-6UdHU"
      },
      "source": [
        "Since the dataset is not too large, you can easily compute the standard correlation coefficient (also called Pearson coeff)"
      ]
    },
    {
      "cell_type": "code",
      "metadata": {
        "id": "V38YloioMi6O",
        "outputId": "f8990619-a3d0-4720-a613-407f0db353d2"
      },
      "source": [
        "corr_matrix = housing.corr()\n",
        "\n",
        "corr_matrix['median_house_value'].sort_values(ascending = False)"
      ],
      "execution_count": null,
      "outputs": [
        {
          "output_type": "execute_result",
          "data": {
            "text/plain": [
              "median_house_value    1.000000\n",
              "median_income         0.687160\n",
              "total_rooms           0.135097\n",
              "housing_median_age    0.114110\n",
              "households            0.064506\n",
              "total_bedrooms        0.047689\n",
              "population           -0.026920\n",
              "longitude            -0.047432\n",
              "latitude             -0.142724\n",
              "Name: median_house_value, dtype: float64"
            ]
          },
          "metadata": {
            "tags": []
          },
          "execution_count": 31
        }
      ]
    },
    {
      "cell_type": "markdown",
      "metadata": {
        "id": "IBAMgVvXUjyJ"
      },
      "source": [
        "The correlation coefficient ranges from –1 to 1. When it is close to 1, it means that\n",
        "there is a strong positive correlation; for example, the median house value tends to go\n",
        "up when the median income goes up. When the coefficient is close to –1, it means\n",
        "that there is a strong negative correlation; you can see a small negative correlation\n",
        "between the latitude and the median house value (i.e., prices have a slight tendency to\n",
        "go down when you go north). Finally, coefficients close to zero mean that there is no\n",
        "linear correlation."
      ]
    },
    {
      "cell_type": "markdown",
      "metadata": {
        "id": "PM_nlkqCUnYs"
      },
      "source": [
        "Another way to check for correlation between attributes is to use Pandas’\n",
        "scatter_matrix function, which plots every numerical attribute against every other\n",
        "numerical attribute. Since there are now 11 numerical attributes, you would get 11 * 1 = 121 plots\n",
        "so just focusssing on some promising attributes"
      ]
    },
    {
      "cell_type": "code",
      "metadata": {
        "id": "B8qjaiCXMi6P",
        "outputId": "8788bd7a-b981-4d45-f70c-a97210371701"
      },
      "source": [
        "from pandas.plotting import scatter_matrix\n",
        "\n",
        "attributes = [\"median_house_value\", \"median_income\", \"total_rooms\",\"housing_median_age\"]\n",
        "scatter_matrix(housing[attributes], figsize = (10,6))"
      ],
      "execution_count": null,
      "outputs": [
        {
          "output_type": "execute_result",
          "data": {
            "text/plain": [
              "array([[<matplotlib.axes._subplots.AxesSubplot object at 0x7f8fbecb9940>,\n",
              "        <matplotlib.axes._subplots.AxesSubplot object at 0x7f8fbec14860>,\n",
              "        <matplotlib.axes._subplots.AxesSubplot object at 0x7f8fbec3d1d0>,\n",
              "        <matplotlib.axes._subplots.AxesSubplot object at 0x7f8fbe139b70>],\n",
              "       [<matplotlib.axes._subplots.AxesSubplot object at 0x7f8fbeba5a20>,\n",
              "        <matplotlib.axes._subplots.AxesSubplot object at 0x7f8fbeba59b0>,\n",
              "        <matplotlib.axes._subplots.AxesSubplot object at 0x7f8fbea9b0f0>,\n",
              "        <matplotlib.axes._subplots.AxesSubplot object at 0x7f8fbea4ee10>],\n",
              "       [<matplotlib.axes._subplots.AxesSubplot object at 0x7f8fbea0aac8>,\n",
              "        <matplotlib.axes._subplots.AxesSubplot object at 0x7f8fbe1bb198>,\n",
              "        <matplotlib.axes._subplots.AxesSubplot object at 0x7f8fbe163780>,\n",
              "        <matplotlib.axes._subplots.AxesSubplot object at 0x7f8fbe9ddb00>],\n",
              "       [<matplotlib.axes._subplots.AxesSubplot object at 0x7f8fbe99b4e0>,\n",
              "        <matplotlib.axes._subplots.AxesSubplot object at 0x7f8fbe9ae198>,\n",
              "        <matplotlib.axes._subplots.AxesSubplot object at 0x7f8fbe961860>,\n",
              "        <matplotlib.axes._subplots.AxesSubplot object at 0x7f8fbe9a3cf8>]],\n",
              "      dtype=object)"
            ]
          },
          "metadata": {
            "tags": []
          },
          "execution_count": 32
        },
        {
          "output_type": "display_data",
          "data": {
            "image/png": "[encoded data removed]",
            "text/plain": [
              "<Figure size 720x432 with 16 Axes>"
            ]
          },
          "metadata": {
            "tags": []
          }
        }
      ]
    },
    {
      "cell_type": "markdown",
      "metadata": {
        "id": "TylO-GJOU4zu"
      },
      "source": [
        "The most promising attribute to predict the median house value is the median income,so lets focus on that scatterplt"
      ]
    },
    {
      "cell_type": "code",
      "metadata": {
        "id": "8mZQzTSEMi6Q",
        "outputId": "42b8e5b3-04ab-488d-cc79-acc410648c2a"
      },
      "source": [
        "housing.plot(kind='scatter', x=\"median_income\", y=\"median_house_value\",alpha=0.1)\n",
        "\n",
        "\n"
      ],
      "execution_count": null,
      "outputs": [
        {
          "output_type": "execute_result",
          "data": {
            "text/plain": [
              "<matplotlib.axes._subplots.AxesSubplot at 0x7f8faa00ef98>"
            ]
          },
          "metadata": {
            "tags": []
          },
          "execution_count": 33
        },
        {
          "output_type": "display_data",
          "data": {
            "image/png": "[encoded data removed]",
            "text/plain": [
              "<Figure size 432x288 with 1 Axes>"
            ]
          },
          "metadata": {
            "tags": []
          }
        }
      ]
    },
    {
      "cell_type": "markdown",
      "metadata": {
        "id": "f1sOzA1sVGiq"
      },
      "source": [
        "This plot reveals a few things. First, the correlation is indeed very strong; you can\n",
        "clearly see the upward trend and the points are not too dispersed. Second, the price\n",
        "cap that we noticed earlier is clearly visible as a horizontal line at 500,000. \n",
        "But this plot reveals other less obvious straight lines: a horizontal line around 450,000,\n",
        "another around 350,000, perhaps one around 280,000, and a few more below that.\n",
        "You may want to try removing the corresponding districts to prevent your algorithms\n",
        "from learning to reproduce these data quirks."
      ]
    },
    {
      "cell_type": "markdown",
      "metadata": {
        "id": "tgRJi5nKMi6Q"
      },
      "source": [
        "# Experimenting with Attribute Combinations"
      ]
    },
    {
      "cell_type": "markdown",
      "metadata": {
        "id": "FIbYp32KMi6R"
      },
      "source": [
        "Hopefully the previous sections gave you an idea of a few ways you can explore the\n",
        "data and gain insights. You identified a few data quirks that you may want to clean up\n",
        "before feeding the data to a Machine Learning algorithm, and you found interesting\n",
        "correlations between attributes, in particular with the target attribute. You also\n",
        "noticed that some attributes have a tail-heavy distribution, so you may want to trans‐\n",
        "form them (e.g., by computing their logarithm)\n",
        "\n",
        "one last thing we can do is try out various attribute combinations.\n",
        "For example, the total number of rooms in a district is not very useful if you don’t know how many\n",
        "households there are. What you really want is the number of rooms per household.\n",
        "Similarly, the total number of bedrooms by itself is not very useful: you probably\n",
        "want to compare it to the number of rooms. And the population per household also\n",
        "seems like an interesting attribute combination to look at. Let’s create these new\n",
        "attributes:\n",
        "\n"
      ]
    },
    {
      "cell_type": "code",
      "metadata": {
        "id": "CwnjGOuJMi6R"
      },
      "source": [
        "housing[\"rooms_per_household\"] = housing[\"total_rooms\"]/housing[\"households\"]\n",
        "housing[\"bedrooms_per_room\"] = housing[\"total_bedrooms\"]/housing[\"total_rooms\"]\n",
        "housing[\"population_per_household\"]=housing[\"population\"]/housing[\"households\"]"
      ],
      "execution_count": null,
      "outputs": []
    },
    {
      "cell_type": "code",
      "metadata": {
        "colab": {
          "base_uri": "https://localhost:8080/",
          "height": 132
        },
        "id": "gFJ2Qt-0Mi6S",
        "outputId": "0c3c39d6-a3da-4952-ed49-e17b87d68a2f"
      },
      "source": [
        "housing.head(2)"
      ],
      "execution_count": null,
      "outputs": [
        {
          "output_type": "execute_result",
          "data": {
            "text/html": [
              "<div>\n",
              "<style scoped>\n",
              "    .dataframe tbody tr th:only-of-type {\n",
              "        vertical-align: middle;\n",
              "    }\n",
              "\n",
              "    .dataframe tbody tr th {\n",
              "        vertical-align: top;\n",
              "    }\n",
              "\n",
              "    .dataframe thead th {\n",
              "        text-align: right;\n",
              "    }\n",
              "</style>\n",
              "<table border=\"1\" class=\"dataframe\">\n",
              "  <thead>\n",
              "    <tr style=\"text-align: right;\">\n",
              "      <th></th>\n",
              "      <th>longitude</th>\n",
              "      <th>latitude</th>\n",
              "      <th>housing_median_age</th>\n",
              "      <th>total_rooms</th>\n",
              "      <th>total_bedrooms</th>\n",
              "      <th>population</th>\n",
              "      <th>households</th>\n",
              "      <th>median_income</th>\n",
              "      <th>median_house_value</th>\n",
              "      <th>ocean_proximity</th>\n",
              "      <th>rooms_per_household</th>\n",
              "      <th>bedrooms_per_room</th>\n",
              "      <th>population_per_household</th>\n",
              "    </tr>\n",
              "  </thead>\n",
              "  <tbody>\n",
              "    <tr>\n",
              "      <th>17606</th>\n",
              "      <td>-121.89</td>\n",
              "      <td>37.29</td>\n",
              "      <td>38.0</td>\n",
              "      <td>1568.0</td>\n",
              "      <td>351.0</td>\n",
              "      <td>710.0</td>\n",
              "      <td>339.0</td>\n",
              "      <td>2.7042</td>\n",
              "      <td>286600.0</td>\n",
              "      <td>&lt;1H OCEAN</td>\n",
              "      <td>4.625369</td>\n",
              "      <td>0.223852</td>\n",
              "      <td>2.094395</td>\n",
              "    </tr>\n",
              "    <tr>\n",
              "      <th>18632</th>\n",
              "      <td>-121.93</td>\n",
              "      <td>37.05</td>\n",
              "      <td>14.0</td>\n",
              "      <td>679.0</td>\n",
              "      <td>108.0</td>\n",
              "      <td>306.0</td>\n",
              "      <td>113.0</td>\n",
              "      <td>6.4214</td>\n",
              "      <td>340600.0</td>\n",
              "      <td>&lt;1H OCEAN</td>\n",
              "      <td>6.008850</td>\n",
              "      <td>0.159057</td>\n",
              "      <td>2.707965</td>\n",
              "    </tr>\n",
              "  </tbody>\n",
              "</table>\n",
              "</div>"
            ],
            "text/plain": [
              "       longitude  latitude  ...  bedrooms_per_room  population_per_household\n",
              "17606    -121.89     37.29  ...           0.223852                  2.094395\n",
              "18632    -121.93     37.05  ...           0.159057                  2.707965\n",
              "\n",
              "[2 rows x 13 columns]"
            ]
          },
          "metadata": {
            "tags": []
          },
          "execution_count": 12
        }
      ]
    },
    {
      "cell_type": "code",
      "metadata": {
        "colab": {
          "base_uri": "https://localhost:8080/"
        },
        "id": "ITHVve26PVeY",
        "outputId": "1ad5147a-f954-4bc7-9098-3e28de36e1ef"
      },
      "source": [
        "#And now let’s look at the correlation matrix again:\n",
        "\n",
        "corr_matrix = housing.corr()\n",
        "corr_matrix[\"median_house_value\"].sort_values(ascending=False)\n",
        "\n",
        "\n",
        "\n",
        "\n",
        "\n",
        "\n"
      ],
      "execution_count": null,
      "outputs": [
        {
          "output_type": "execute_result",
          "data": {
            "text/plain": [
              "median_house_value          1.000000\n",
              "median_income               0.687160\n",
              "rooms_per_household         0.146285\n",
              "total_rooms                 0.135097\n",
              "housing_median_age          0.114110\n",
              "households                  0.064506\n",
              "total_bedrooms              0.047689\n",
              "population_per_household   -0.021985\n",
              "population                 -0.026920\n",
              "longitude                  -0.047432\n",
              "latitude                   -0.142724\n",
              "bedrooms_per_room          -0.259984\n",
              "Name: median_house_value, dtype: float64"
            ]
          },
          "metadata": {
            "tags": []
          },
          "execution_count": 13
        }
      ]
    },
    {
      "cell_type": "markdown",
      "metadata": {
        "id": "audwhj1pVkOZ"
      },
      "source": [
        "The new bedrooms_per_room attribute is much more correlated with\n",
        "the median house value than the total number of rooms or bedrooms. Apparently\n",
        "houses with a lower bedroom/room ratio tend to be more expensive. The number of\n",
        "rooms per household is also more informative than the total number of rooms in a\n",
        "district—obviously the larger the houses, the more expensive they are."
      ]
    },
    {
      "cell_type": "markdown",
      "metadata": {
        "id": "WybweJX0VoAt"
      },
      "source": [
        "**so far we quickly gain insights about the data. since its an iterative process, we will come back to EDA after analyzing the output**"
      ]
    },
    {
      "cell_type": "markdown",
      "metadata": {
        "id": "CSXftIKX17vP"
      },
      "source": [
        "#Prepare the Data for Machine Learning Algorithms"
      ]
    },
    {
      "cell_type": "markdown",
      "metadata": {
        "id": "RVJ7AnJAVviq"
      },
      "source": [
        "lets do cleaning of training set first (by copying strat_train_set once again),\n",
        "and let’s separate the predictors and the labels since we don’t necessarily want to apply\n",
        "the same transformations to the predictors and the target values (note that drop()\n",
        "creates a copy of the data and does not affect strat_train_set ):"
      ]
    },
    {
      "cell_type": "code",
      "metadata": {
        "id": "r6rUvKJu1-HH"
      },
      "source": [
        "housing = strat_train_set.drop(\"median_house_value\", axis=1)\n",
        "housing_labels = strat_train_set[\"median_house_value\"].copy()"
      ],
      "execution_count": null,
      "outputs": []
    },
    {
      "cell_type": "code",
      "metadata": {
        "colab": {
          "base_uri": "https://localhost:8080/",
          "height": 132
        },
        "id": "EXitSe2D2h6O",
        "outputId": "913e34a3-ec27-4798-a18b-2e6ada771bdf"
      },
      "source": [
        "strat_train_set.head(2)"
      ],
      "execution_count": null,
      "outputs": [
        {
          "output_type": "execute_result",
          "data": {
            "text/html": [
              "<div>\n",
              "<style scoped>\n",
              "    .dataframe tbody tr th:only-of-type {\n",
              "        vertical-align: middle;\n",
              "    }\n",
              "\n",
              "    .dataframe tbody tr th {\n",
              "        vertical-align: top;\n",
              "    }\n",
              "\n",
              "    .dataframe thead th {\n",
              "        text-align: right;\n",
              "    }\n",
              "</style>\n",
              "<table border=\"1\" class=\"dataframe\">\n",
              "  <thead>\n",
              "    <tr style=\"text-align: right;\">\n",
              "      <th></th>\n",
              "      <th>longitude</th>\n",
              "      <th>latitude</th>\n",
              "      <th>housing_median_age</th>\n",
              "      <th>total_rooms</th>\n",
              "      <th>total_bedrooms</th>\n",
              "      <th>population</th>\n",
              "      <th>households</th>\n",
              "      <th>median_income</th>\n",
              "      <th>median_house_value</th>\n",
              "      <th>ocean_proximity</th>\n",
              "    </tr>\n",
              "  </thead>\n",
              "  <tbody>\n",
              "    <tr>\n",
              "      <th>17606</th>\n",
              "      <td>-121.89</td>\n",
              "      <td>37.29</td>\n",
              "      <td>38.0</td>\n",
              "      <td>1568.0</td>\n",
              "      <td>351.0</td>\n",
              "      <td>710.0</td>\n",
              "      <td>339.0</td>\n",
              "      <td>2.7042</td>\n",
              "      <td>286600.0</td>\n",
              "      <td>&lt;1H OCEAN</td>\n",
              "    </tr>\n",
              "    <tr>\n",
              "      <th>18632</th>\n",
              "      <td>-121.93</td>\n",
              "      <td>37.05</td>\n",
              "      <td>14.0</td>\n",
              "      <td>679.0</td>\n",
              "      <td>108.0</td>\n",
              "      <td>306.0</td>\n",
              "      <td>113.0</td>\n",
              "      <td>6.4214</td>\n",
              "      <td>340600.0</td>\n",
              "      <td>&lt;1H OCEAN</td>\n",
              "    </tr>\n",
              "  </tbody>\n",
              "</table>\n",
              "</div>"
            ],
            "text/plain": [
              "       longitude  latitude  ...  median_house_value  ocean_proximity\n",
              "17606    -121.89     37.29  ...            286600.0        <1H OCEAN\n",
              "18632    -121.93     37.05  ...            340600.0        <1H OCEAN\n",
              "\n",
              "[2 rows x 10 columns]"
            ]
          },
          "metadata": {
            "tags": []
          },
          "execution_count": 15
        }
      ]
    },
    {
      "cell_type": "code",
      "metadata": {
        "colab": {
          "base_uri": "https://localhost:8080/",
          "height": 112
        },
        "id": "2TIW_e_u2nnR",
        "outputId": "4f722f54-7aa1-453c-f436-61d8eb72dbd5"
      },
      "source": [
        "housing.head(2)"
      ],
      "execution_count": null,
      "outputs": [
        {
          "output_type": "execute_result",
          "data": {
            "text/html": [
              "<div>\n",
              "<style scoped>\n",
              "    .dataframe tbody tr th:only-of-type {\n",
              "        vertical-align: middle;\n",
              "    }\n",
              "\n",
              "    .dataframe tbody tr th {\n",
              "        vertical-align: top;\n",
              "    }\n",
              "\n",
              "    .dataframe thead th {\n",
              "        text-align: right;\n",
              "    }\n",
              "</style>\n",
              "<table border=\"1\" class=\"dataframe\">\n",
              "  <thead>\n",
              "    <tr style=\"text-align: right;\">\n",
              "      <th></th>\n",
              "      <th>longitude</th>\n",
              "      <th>latitude</th>\n",
              "      <th>housing_median_age</th>\n",
              "      <th>total_rooms</th>\n",
              "      <th>total_bedrooms</th>\n",
              "      <th>population</th>\n",
              "      <th>households</th>\n",
              "      <th>median_income</th>\n",
              "      <th>ocean_proximity</th>\n",
              "    </tr>\n",
              "  </thead>\n",
              "  <tbody>\n",
              "    <tr>\n",
              "      <th>17606</th>\n",
              "      <td>-121.89</td>\n",
              "      <td>37.29</td>\n",
              "      <td>38.0</td>\n",
              "      <td>1568.0</td>\n",
              "      <td>351.0</td>\n",
              "      <td>710.0</td>\n",
              "      <td>339.0</td>\n",
              "      <td>2.7042</td>\n",
              "      <td>&lt;1H OCEAN</td>\n",
              "    </tr>\n",
              "    <tr>\n",
              "      <th>18632</th>\n",
              "      <td>-121.93</td>\n",
              "      <td>37.05</td>\n",
              "      <td>14.0</td>\n",
              "      <td>679.0</td>\n",
              "      <td>108.0</td>\n",
              "      <td>306.0</td>\n",
              "      <td>113.0</td>\n",
              "      <td>6.4214</td>\n",
              "      <td>&lt;1H OCEAN</td>\n",
              "    </tr>\n",
              "  </tbody>\n",
              "</table>\n",
              "</div>"
            ],
            "text/plain": [
              "       longitude  latitude  ...  median_income  ocean_proximity\n",
              "17606    -121.89     37.29  ...         2.7042        <1H OCEAN\n",
              "18632    -121.93     37.05  ...         6.4214        <1H OCEAN\n",
              "\n",
              "[2 rows x 9 columns]"
            ]
          },
          "metadata": {
            "tags": []
          },
          "execution_count": 16
        }
      ]
    },
    {
      "cell_type": "code",
      "metadata": {
        "colab": {
          "base_uri": "https://localhost:8080/"
        },
        "id": "AyXTL57O2tfu",
        "outputId": "c9a828dc-5438-4e61-80c3-58ab295255d3"
      },
      "source": [
        "housing_labels.head(2)"
      ],
      "execution_count": null,
      "outputs": [
        {
          "output_type": "execute_result",
          "data": {
            "text/plain": [
              "17606    286600.0\n",
              "18632    340600.0\n",
              "Name: median_house_value, dtype: float64"
            ]
          },
          "metadata": {
            "tags": []
          },
          "execution_count": 17
        }
      ]
    },
    {
      "cell_type": "markdown",
      "metadata": {
        "id": "uL50Dtqn_367"
      },
      "source": [
        "\r\n",
        "\r\n",
        "---\r\n",
        "\r\n",
        "---\r\n",
        "\r\n",
        "\r\n",
        "\r\n"
      ]
    },
    {
      "cell_type": "markdown",
      "metadata": {
        "id": "Z1VXRr3C5GZy"
      },
      "source": [
        "Data cleaning\n",
        "\n",
        "let's work on the attributes with missing features. noticed earlier that the total_bedrooms\n",
        "attribute has some missing values, so let’s fix this. we have 3 options:\n",
        "\n",
        "• Get rid of the corresponding districts.\n",
        "• Get rid of the whole attribute.\n",
        "• Set the values to some value (zero, the mean, the median, etc.).\n",
        "You can accomplish these easily using DataFrame’s dropna() , drop() , and fillna()\n",
        "methods:"
      ]
    },
    {
      "cell_type": "markdown",
      "metadata": {
        "id": "aW4tdmSSV_6D"
      },
      "source": [
        "housing.dropna(subset=[\"total_bedrooms\"]) \n",
        "\n",
        "\n",
        "1.   option 1 - housing.drop(\"total_bedrooms\", axis=1)\n",
        "2.   option 2 - median = housing[\"total_bedrooms\"].median()\n",
        "3.   option 3 - housing[\"total_bedrooms\"].fillna(median, inplace=True)\n",
        "\n",
        "\n",
        "\n",
        "\n",
        "If you choose option 3, you should compute the median value on the training set, and use it to fill the missing values in the training set"
      ]
    },
    {
      "cell_type": "markdown",
      "metadata": {
        "id": "RJzNmBDi6-DQ"
      },
      "source": [
        "scikit learn provides a class SimpleImputer to handle missing values, lets use it.\n",
        "firstly need to create a SimpleImputer instance, specifying\n",
        "that you want to replace each attribute’s missing values with the median of that attribute:"
      ]
    },
    {
      "cell_type": "code",
      "metadata": {
        "id": "J2mTIDMc64tG"
      },
      "source": [
        "from sklearn.impute import SimpleImputer\n",
        "\n",
        "imputer = SimpleImputer(strategy = 'median')"
      ],
      "execution_count": null,
      "outputs": []
    },
    {
      "cell_type": "code",
      "metadata": {
        "colab": {
          "base_uri": "https://localhost:8080/"
        },
        "id": "cSp8ckkg7gYv",
        "outputId": "ddaaa307-4c3d-46a3-f3d8-3d856d2f52f6"
      },
      "source": [
        "# Since the median can only be computed on numerical attributes, we need to create a\n",
        "# copy of the data without the text attribute ocean_proximity\n",
        "housing_num = housing.drop(\"ocean_proximity\", axis=1)\n",
        "\n",
        "#Now you can fit the imputer instance to the training data using the fit() method:\n",
        "imputer.fit(housing_num)\n"
      ],
      "execution_count": null,
      "outputs": [
        {
          "output_type": "execute_result",
          "data": {
            "text/plain": [
              "SimpleImputer(add_indicator=False, copy=True, fill_value=None,\n",
              "              missing_values=nan, strategy='median', verbose=0)"
            ]
          },
          "metadata": {
            "tags": []
          },
          "execution_count": 10
        }
      ]
    },
    {
      "cell_type": "markdown",
      "metadata": {
        "id": "edjtIxpOWimo"
      },
      "source": [
        "The imputer has simply computed the median of each attribute and stored the result\n",
        "in its statistics_ instance variable. Only the total_bedrooms attribute had missing values, \n",
        "but we cannot be sure that there won’t be any missing values in new data after system goes live, hence computing median of all num attribut"
      ]
    },
    {
      "cell_type": "code",
      "metadata": {
        "colab": {
          "base_uri": "https://localhost:8080/"
        },
        "id": "iNmdV4cM8ELY",
        "outputId": "474f8f5c-910d-464e-e2a1-be27c5979c77"
      },
      "source": [
        "imputer.statistics_"
      ],
      "execution_count": null,
      "outputs": [
        {
          "output_type": "execute_result",
          "data": {
            "text/plain": [
              "array([-118.51  ,   34.26  ,   29.    , 2119.5   ,  433.    , 1164.    ,\n",
              "        408.    ,    3.5409])"
            ]
          },
          "metadata": {
            "tags": []
          },
          "execution_count": 23
        }
      ]
    },
    {
      "cell_type": "code",
      "metadata": {
        "colab": {
          "base_uri": "https://localhost:8080/"
        },
        "id": "6eJAZ-7x8vXx",
        "outputId": "7795b18b-c75e-44cf-86e5-d3eebaea7c72"
      },
      "source": [
        "# now we can use the imputer to transform training set by replacing missing values by computed medians\n",
        "\n",
        "X = imputer.transform(housing_num)\n",
        "\n",
        "X"
      ],
      "execution_count": null,
      "outputs": [
        {
          "output_type": "execute_result",
          "data": {
            "text/plain": [
              "array([[-121.89  ,   37.29  ,   38.    , ...,  710.    ,  339.    ,\n",
              "           2.7042],\n",
              "       [-121.93  ,   37.05  ,   14.    , ...,  306.    ,  113.    ,\n",
              "           6.4214],\n",
              "       [-117.2   ,   32.77  ,   31.    , ...,  936.    ,  462.    ,\n",
              "           2.8621],\n",
              "       ...,\n",
              "       [-116.4   ,   34.09  ,    9.    , ..., 2098.    ,  765.    ,\n",
              "           3.2723],\n",
              "       [-118.01  ,   33.82  ,   31.    , ..., 1356.    ,  356.    ,\n",
              "           4.0625],\n",
              "       [-122.45  ,   37.77  ,   52.    , ..., 1269.    ,  639.    ,\n",
              "           3.575 ]])"
            ]
          },
          "metadata": {
            "tags": []
          },
          "execution_count": 12
        }
      ]
    },
    {
      "cell_type": "code",
      "metadata": {
        "colab": {
          "base_uri": "https://localhost:8080/",
          "height": 112
        },
        "id": "QqbuC70W9tcv",
        "outputId": "095504e7-fa23-4d04-bce9-8048a617e237"
      },
      "source": [
        "# the result is a numpy array containg transformed features. if want to put it back as a dataframe,\n",
        "\n",
        "housing_tr = pd.DataFrame(X, columns=housing_num.columns)\n",
        "\n",
        "housing_tr.head(2)"
      ],
      "execution_count": null,
      "outputs": [
        {
          "output_type": "execute_result",
          "data": {
            "text/html": [
              "<div>\n",
              "<style scoped>\n",
              "    .dataframe tbody tr th:only-of-type {\n",
              "        vertical-align: middle;\n",
              "    }\n",
              "\n",
              "    .dataframe tbody tr th {\n",
              "        vertical-align: top;\n",
              "    }\n",
              "\n",
              "    .dataframe thead th {\n",
              "        text-align: right;\n",
              "    }\n",
              "</style>\n",
              "<table border=\"1\" class=\"dataframe\">\n",
              "  <thead>\n",
              "    <tr style=\"text-align: right;\">\n",
              "      <th></th>\n",
              "      <th>longitude</th>\n",
              "      <th>latitude</th>\n",
              "      <th>housing_median_age</th>\n",
              "      <th>total_rooms</th>\n",
              "      <th>total_bedrooms</th>\n",
              "      <th>population</th>\n",
              "      <th>households</th>\n",
              "      <th>median_income</th>\n",
              "    </tr>\n",
              "  </thead>\n",
              "  <tbody>\n",
              "    <tr>\n",
              "      <th>0</th>\n",
              "      <td>-121.89</td>\n",
              "      <td>37.29</td>\n",
              "      <td>38.0</td>\n",
              "      <td>1568.0</td>\n",
              "      <td>351.0</td>\n",
              "      <td>710.0</td>\n",
              "      <td>339.0</td>\n",
              "      <td>2.7042</td>\n",
              "    </tr>\n",
              "    <tr>\n",
              "      <th>1</th>\n",
              "      <td>-121.93</td>\n",
              "      <td>37.05</td>\n",
              "      <td>14.0</td>\n",
              "      <td>679.0</td>\n",
              "      <td>108.0</td>\n",
              "      <td>306.0</td>\n",
              "      <td>113.0</td>\n",
              "      <td>6.4214</td>\n",
              "    </tr>\n",
              "  </tbody>\n",
              "</table>\n",
              "</div>"
            ],
            "text/plain": [
              "   longitude  latitude  ...  households  median_income\n",
              "0    -121.89     37.29  ...       339.0         2.7042\n",
              "1    -121.93     37.05  ...       113.0         6.4214\n",
              "\n",
              "[2 rows x 8 columns]"
            ]
          },
          "metadata": {
            "tags": []
          },
          "execution_count": 13
        }
      ]
    },
    {
      "cell_type": "code",
      "metadata": {
        "colab": {
          "base_uri": "https://localhost:8080/"
        },
        "id": "rWxBZNzo-Opc",
        "outputId": "16502320-f7bf-4bba-addd-8380758b5ad3"
      },
      "source": [
        "housing_tr.info()"
      ],
      "execution_count": null,
      "outputs": [
        {
          "output_type": "stream",
          "text": [
            "<class 'pandas.core.frame.DataFrame'>\n",
            "RangeIndex: 16512 entries, 0 to 16511\n",
            "Data columns (total 8 columns):\n",
            " #   Column              Non-Null Count  Dtype  \n",
            "---  ------              --------------  -----  \n",
            " 0   longitude           16512 non-null  float64\n",
            " 1   latitude            16512 non-null  float64\n",
            " 2   housing_median_age  16512 non-null  float64\n",
            " 3   total_rooms         16512 non-null  float64\n",
            " 4   total_bedrooms      16512 non-null  float64\n",
            " 5   population          16512 non-null  float64\n",
            " 6   households          16512 non-null  float64\n",
            " 7   median_income       16512 non-null  float64\n",
            "dtypes: float64(8)\n",
            "memory usage: 1.0 MB\n"
          ],
          "name": "stdout"
        }
      ]
    },
    {
      "cell_type": "markdown",
      "metadata": {
        "id": "4Cy0luDefUcv"
      },
      "source": [
        "**Handling Text and Categorical Attributes**\n",
        "\n",
        "let's work with cat attribute ocean_proximity"
      ]
    },
    {
      "cell_type": "code",
      "metadata": {
        "colab": {
          "base_uri": "https://localhost:8080/",
          "height": 206
        },
        "id": "QUfRs2Xo-Xot",
        "outputId": "416530b9-76cd-44da-b090-5f995a680e51"
      },
      "source": [
        "housing_cat = housing[['ocean_proximity']]\n",
        "housing_cat.head(5)"
      ],
      "execution_count": null,
      "outputs": [
        {
          "output_type": "execute_result",
          "data": {
            "text/html": [
              "<div>\n",
              "<style scoped>\n",
              "    .dataframe tbody tr th:only-of-type {\n",
              "        vertical-align: middle;\n",
              "    }\n",
              "\n",
              "    .dataframe tbody tr th {\n",
              "        vertical-align: top;\n",
              "    }\n",
              "\n",
              "    .dataframe thead th {\n",
              "        text-align: right;\n",
              "    }\n",
              "</style>\n",
              "<table border=\"1\" class=\"dataframe\">\n",
              "  <thead>\n",
              "    <tr style=\"text-align: right;\">\n",
              "      <th></th>\n",
              "      <th>ocean_proximity</th>\n",
              "    </tr>\n",
              "  </thead>\n",
              "  <tbody>\n",
              "    <tr>\n",
              "      <th>17606</th>\n",
              "      <td>&lt;1H OCEAN</td>\n",
              "    </tr>\n",
              "    <tr>\n",
              "      <th>18632</th>\n",
              "      <td>&lt;1H OCEAN</td>\n",
              "    </tr>\n",
              "    <tr>\n",
              "      <th>14650</th>\n",
              "      <td>NEAR OCEAN</td>\n",
              "    </tr>\n",
              "    <tr>\n",
              "      <th>3230</th>\n",
              "      <td>INLAND</td>\n",
              "    </tr>\n",
              "    <tr>\n",
              "      <th>3555</th>\n",
              "      <td>&lt;1H OCEAN</td>\n",
              "    </tr>\n",
              "  </tbody>\n",
              "</table>\n",
              "</div>"
            ],
            "text/plain": [
              "      ocean_proximity\n",
              "17606       <1H OCEAN\n",
              "18632       <1H OCEAN\n",
              "14650      NEAR OCEAN\n",
              "3230           INLAND\n",
              "3555        <1H OCEAN"
            ]
          },
          "metadata": {
            "tags": []
          },
          "execution_count": 14
        }
      ]
    },
    {
      "cell_type": "markdown",
      "metadata": {
        "id": "z1fwpinHgFYc"
      },
      "source": [
        "Most Machine Learning algorithms prefer to work with numbers anyway, so let’s convert these categories from text to numbers. For this, we can use Scikit-Learn’s OrdinalEncoder class:"
      ]
    },
    {
      "cell_type": "code",
      "metadata": {
        "id": "MGfvGG7-fxML"
      },
      "source": [
        "from sklearn.preprocessing import OrdinalEncoder\n",
        "ordinal_encoder = OrdinalEncoder()"
      ],
      "execution_count": null,
      "outputs": []
    },
    {
      "cell_type": "code",
      "metadata": {
        "id": "ymTE688SzP3y"
      },
      "source": [
        "housing_cat_encoded = ordinal_encoder.fit_transform(housing_cat)"
      ],
      "execution_count": null,
      "outputs": []
    },
    {
      "cell_type": "code",
      "metadata": {
        "colab": {
          "base_uri": "https://localhost:8080/"
        },
        "id": "3rCqR8EhzdWD",
        "outputId": "2202dda3-a34b-443e-f8e7-fb00ddd09768"
      },
      "source": [
        "housing_cat_encoded.shape"
      ],
      "execution_count": null,
      "outputs": [
        {
          "output_type": "execute_result",
          "data": {
            "text/plain": [
              "(16512, 1)"
            ]
          },
          "metadata": {
            "tags": []
          },
          "execution_count": 17
        }
      ]
    },
    {
      "cell_type": "code",
      "metadata": {
        "colab": {
          "base_uri": "https://localhost:8080/"
        },
        "id": "FRiNMoL0zqCo",
        "outputId": "eb5b3c23-56bb-47b6-9187-a4ca1529750b"
      },
      "source": [
        "type(housing_cat_encoded)"
      ],
      "execution_count": null,
      "outputs": [
        {
          "output_type": "execute_result",
          "data": {
            "text/plain": [
              "numpy.ndarray"
            ]
          },
          "metadata": {
            "tags": []
          },
          "execution_count": 40
        }
      ]
    },
    {
      "cell_type": "code",
      "metadata": {
        "colab": {
          "base_uri": "https://localhost:8080/"
        },
        "id": "rS7wNA611Ge8",
        "outputId": "eda26925-f2b2-4094-f4dd-cc4828df07b0"
      },
      "source": [
        "# so using ordinal encoder, we converted the caregories as numbers. below we are slicing first 0 to 9 index values in the array\n",
        "housing_cat_encoded[:10]"
      ],
      "execution_count": null,
      "outputs": [
        {
          "output_type": "execute_result",
          "data": {
            "text/plain": [
              "array([[0.],\n",
              "       [0.],\n",
              "       [4.],\n",
              "       [1.],\n",
              "       [0.],\n",
              "       [1.],\n",
              "       [0.],\n",
              "       [1.],\n",
              "       [0.],\n",
              "       [0.]])"
            ]
          },
          "metadata": {
            "tags": []
          },
          "execution_count": 44
        }
      ]
    },
    {
      "cell_type": "code",
      "metadata": {
        "colab": {
          "base_uri": "https://localhost:8080/"
        },
        "id": "TXcfXGO40Tzw",
        "outputId": "5458cadd-2b8d-440d-8a4e-b9e7d90e4251"
      },
      "source": [
        "#You can get the list of categories using the categories_ instance variable\n",
        "ordinal_encoder.categories_"
      ],
      "execution_count": null,
      "outputs": [
        {
          "output_type": "execute_result",
          "data": {
            "text/plain": [
              "[array(['<1H OCEAN', 'INLAND', 'ISLAND', 'NEAR BAY', 'NEAR OCEAN'],\n",
              "       dtype=object)]"
            ]
          },
          "metadata": {
            "tags": []
          },
          "execution_count": 41
        }
      ]
    },
    {
      "cell_type": "markdown",
      "metadata": {
        "id": "cnUz1pU9pLUJ"
      },
      "source": [
        "1 issue with this representation is that ML algorithms will assume that two nearby values are more similar than two distant values. This may be fine in some cases is in ordinal data (e.g.,for ordered categories such as “bad”, “average”, “good”, “excellent”). To solve this issue, for nominal data we use one hot encoding as encoding technique(expalined in notebook from krish naik video). "
      ]
    },
    {
      "cell_type": "code",
      "metadata": {
        "id": "cNUKlznR0u3u",
        "colab": {
          "base_uri": "https://localhost:8080/"
        },
        "outputId": "99b6c7d2-dd72-481a-df30-591ca014a35f"
      },
      "source": [
        "from sklearn.preprocessing import OneHotEncoder\n",
        "cat_encoder = OneHotEncoder()\n",
        "housing_cat_1hot = cat_encoder.fit_transform(housing_cat)\n",
        "housing_cat_1hot"
      ],
      "execution_count": null,
      "outputs": [
        {
          "output_type": "execute_result",
          "data": {
            "text/plain": [
              "<16512x5 sparse matrix of type '<class 'numpy.float64'>'\n",
              "\twith 16512 stored elements in Compressed Sparse Row format>"
            ]
          },
          "metadata": {
            "tags": []
          },
          "execution_count": 17
        }
      ]
    },
    {
      "cell_type": "markdown",
      "metadata": {
        "id": "FMzNt0MsqBnv"
      },
      "source": [
        "o/p is a sparse matrix. after 1 hot encoding we get a matrix with thousands of cols and matrix is full of zero except for a single 1 per row. You can use it mostly like a normal 2D array, 21 but if you really want to convert it to a (dense) NumPy array, just call the toarray method:"
      ]
    },
    {
      "cell_type": "code",
      "metadata": {
        "colab": {
          "base_uri": "https://localhost:8080/"
        },
        "id": "6urniojWp8H8",
        "outputId": "17a3cee0-4941-4381-8d80-be68339edf10"
      },
      "source": [
        "housing_cat_1hot.toarray()"
      ],
      "execution_count": null,
      "outputs": [
        {
          "output_type": "execute_result",
          "data": {
            "text/plain": [
              "array([[1., 0., 0., 0., 0.],\n",
              "       [1., 0., 0., 0., 0.],\n",
              "       [0., 0., 0., 0., 1.],\n",
              "       ...,\n",
              "       [0., 1., 0., 0., 0.],\n",
              "       [1., 0., 0., 0., 0.],\n",
              "       [0., 0., 0., 1., 0.]])"
            ]
          },
          "metadata": {
            "tags": []
          },
          "execution_count": 19
        }
      ]
    },
    {
      "cell_type": "code",
      "metadata": {
        "id": "p5MYfxJBq8DR",
        "colab": {
          "base_uri": "https://localhost:8080/"
        },
        "outputId": "5259058e-892d-46fc-c1ac-ff77dfe19919"
      },
      "source": [
        "#you can get the list of categories using the encoder’s categories_ instance variable\n",
        "cat_encoder.categories_"
      ],
      "execution_count": null,
      "outputs": [
        {
          "output_type": "execute_result",
          "data": {
            "text/plain": [
              "[array(['<1H OCEAN', 'INLAND', 'ISLAND', 'NEAR BAY', 'NEAR OCEAN'],\n",
              "       dtype=object)]"
            ]
          },
          "metadata": {
            "tags": []
          },
          "execution_count": 16
        }
      ]
    },
    {
      "cell_type": "markdown",
      "metadata": {
        "id": "xiyl3LTo2hNZ"
      },
      "source": [
        "**Feature scaling**\n",
        "ML algos dont perforn well when input numerical attributes hav diff scales. in our data, total no. of rooms ranges from about 6 to 39320 while median income ranges from 0 to 15.\n",
        "\n",
        "2 common ways of featre scaling - min-max scaling (normalization), standardization"
      ]
    },
    {
      "cell_type": "markdown",
      "metadata": {
        "id": "Wuy5koT3W3bU"
      },
      "source": [
        "In normalization, values are shifted and rescaled so that they end up ranging from 0 to 1. scikit learn has trabsformer called MinMaxScaler for this. \n",
        "It has a feature_range hyperparameter that lets you change the range if you don’t want 0–1 for some reason.\n",
        "\n",
        "Standardization is first it subtracts the mean value (so standardized\n",
        "values always have a zero mean), and then it divides by the standard deviation so that\n",
        "the resulting distribution has unit variance. Unlike min-max scaling, standardization\n",
        "does not bound values to a specific range, which may be a problem for some algo‐\n",
        "rithms (e.g., neural networks often expect an input value ranging from 0 to 1)\n",
        "\n",
        "Min-max scaling would then crush all the other values from 0–15 down to 0–0.15, whereas standardization would not be\n",
        "much affected. Scikit-Learn provides a transformer called StandardScaler for standardization."
      ]
    },
    {
      "cell_type": "markdown",
      "metadata": {
        "id": "xtz2ndTv5xdx"
      },
      "source": [
        "**Transformation Pipelines**\n",
        "\n",
        "As we did, there are many data transformation steps that need to be executed in the right order. Fortunately, Scikit-Learn provides the Pipeline class to help with such sequences of transformations. Here is a small pipeline for the numerical attributes:"
      ]
    },
    {
      "cell_type": "code",
      "metadata": {
        "id": "wdhoRHuZCOFL"
      },
      "source": [
        "# custom transformer for adding extra attributes\n",
        "from sklearn.base import BaseEstimator, TransformerMixin\n",
        "rooms_ix, bedrooms_ix, population_ix, household_ix = 3,4,5,6\n",
        "\n",
        "class CombinedAttributesAdder(BaseEstimator, TransformerMixin):\n",
        "    def __init__(self, add_bedrooms_per_room = True):\n",
        "        self.add_bedrooms_per_room = add_bedrooms_per_room\n",
        "    def fit(self, X, y=None):\n",
        "        return self\n",
        "    def transform(self, X, y=None):\n",
        "        rooms_per_household = X[:, rooms_ix] / X[:, household_ix]\n",
        "        population_per_household = X[:, population_ix] / X[:, household_ix]\n",
        "        if self.add_bedrooms_per_room:\n",
        "            bedrooms_per_room = X[:, bedrooms_ix] / X[:, rooms_ix]\n",
        "            return np.c_[X, rooms_per_household, population_per_household,bedrooms_per_room]\n",
        "        else:\n",
        "            return np.c_[X, rooms_per_household, population_per_household]"
      ],
      "execution_count": null,
      "outputs": []
    },
    {
      "cell_type": "code",
      "metadata": {
        "id": "i2pwoA-d6CA_"
      },
      "source": [
        "from sklearn.pipeline import Pipeline\n",
        "from sklearn.preprocessing import StandardScaler\n",
        "\n",
        "num_pipeline = Pipeline([('imputer', SimpleImputer(strategy=\"median\")),\n",
        "                         ('attribs_adder', CombinedAttributesAdder()),\n",
        "                         ('std_scaler', StandardScaler()),])\n",
        "\n",
        "housing_num_tr = num_pipeline.fit_transform(housing_num)"
      ],
      "execution_count": null,
      "outputs": []
    },
    {
      "cell_type": "markdown",
      "metadata": {
        "id": "km9_6-yW8DRn"
      },
      "source": [
        "When you call the pipeline’s fit() method, it calls fit_transform() sequentially on all transformers, passing the output of each call as the parameter to the next call, until it reaches the final estimator, for which it just calls the fit() method.\n",
        "\n",
        "\n",
        "So far, we have handled the categorical columns and the numerical columns separately. It would be more convenient to have a single transformer able to handle all columns, applying the appropriate transformations to each column. In version 0.20,Scikit-Learn introduced the ColumnTransformer for this purpose, and the good news is that it works great with Pandas DataFrames. Let’s use it to apply all the transformations to the housing data:"
      ]
    },
    {
      "cell_type": "code",
      "metadata": {
        "id": "eaEz7rXD7k6H"
      },
      "source": [
        "from sklearn.compose import ColumnTransformer\n",
        "num_attribs = list(housing_num)\n",
        "cat_attribs = [\"ocean_proximity\"]\n",
        "full_pipeline = ColumnTransformer([\n",
        "                                  (\"num\", num_pipeline, num_attribs),\n",
        "                                  (\"cat\", OneHotEncoder(), cat_attribs),\n",
        "                                  ])\n",
        "\n",
        "housing_prepared = full_pipeline.fit_transform(housing)\n",
        "\n"
      ],
      "execution_count": null,
      "outputs": []
    },
    {
      "cell_type": "markdown",
      "metadata": {
        "id": "Nl381lItDK6_"
      },
      "source": [
        "Here is how this works: first we import the ColumnTransformer class, next we get the\n",
        "list of numerical column names and the list of categorical column names, and we\n",
        "construct a ColumnTransformer . The constructor requires a list of tuples, where each\n",
        "tuple contains a name , a transformer and a list of names (or indices) of columns\n",
        "that the transformer should be applied to. In this example, we specify that the numer‐\n",
        "ical columns should be transformed using the num_pipeline that we defined earlier,\n",
        "and the categorical columns should be transformed using a OneHotEncoder . Finally,\n",
        "we apply this ColumnTransformer to the housing data: it applies each transformer to\n",
        "the appropriate columns and concatenates the outputs along the second axis (the\n",
        "transformers must return the same number of rows)."
      ]
    },
    {
      "cell_type": "markdown",
      "metadata": {
        "id": "HaNYaZ9pDpZa"
      },
      "source": [
        "**Select and train the model**\n",
        "\n",
        "Now we have the prepared data. you sampled a training and a test set you wrote transformation pipelines to clean up and\n",
        "prepare your data for Machine Learning algorithms automatically."
      ]
    },
    {
      "cell_type": "code",
      "metadata": {
        "id": "AJpK4dQF9We7",
        "colab": {
          "base_uri": "https://localhost:8080/"
        },
        "outputId": "d87c2266-07a2-439b-d3d0-69284c309242"
      },
      "source": [
        "# Training and Evaluating on the Training Set\n",
        "# Let’s first train a Linear Regression model\n",
        "\n",
        "from sklearn.linear_model import LinearRegression\n",
        "lin_reg = LinearRegression()\n",
        "lin_reg.fit(housing_prepared, housing_labels)\n",
        "\n",
        "#now we have a working linear reg model\n"
      ],
      "execution_count": null,
      "outputs": [
        {
          "output_type": "execute_result",
          "data": {
            "text/plain": [
              "LinearRegression(copy_X=True, fit_intercept=True, n_jobs=None, normalize=False)"
            ]
          },
          "metadata": {
            "tags": []
          },
          "execution_count": 21
        }
      ]
    },
    {
      "cell_type": "code",
      "metadata": {
        "colab": {
          "base_uri": "https://localhost:8080/"
        },
        "id": "cKxeC-jUTldb",
        "outputId": "70c6043e-7f59-463c-ae80-9115d0a0b1cc"
      },
      "source": [
        "#Let’s try it out on a few instances from the training set:\n",
        "some_data = housing.iloc[:5]\n",
        "some_labels = housing_labels.iloc[:5]\n",
        "some_data_prepared = full_pipeline.transform(some_data)\n",
        "\n",
        "print(\"Predictions:\", lin_reg.predict(some_data_prepared))\n",
        "print(\"Labels:\", list(some_labels))"
      ],
      "execution_count": null,
      "outputs": [
        {
          "output_type": "stream",
          "text": [
            "Predictions: [210644.60459286 317768.80697211 210956.43331178  59218.98886849\n",
            " 189747.55849879]\n",
            "Labels: [286600.0, 340600.0, 196900.0, 46300.0, 254500.0]\n"
          ],
          "name": "stdout"
        }
      ]
    },
    {
      "cell_type": "code",
      "metadata": {
        "colab": {
          "base_uri": "https://localhost:8080/"
        },
        "id": "UItafAHVUAf2",
        "outputId": "1a9ba5e3-e35a-42c5-f6f9-52d6faf6a5cd"
      },
      "source": [
        "# Let’s measure this regression model’s RMSE on the whole training set using Scikit-Learn’s mean_squared_error function:\n",
        "\n",
        "from sklearn.metrics import mean_squared_error\n",
        "housing_predictions = lin_reg.predict(housing_prepared)\n",
        "lin_mse = mean_squared_error(housing_labels, housing_predictions)\n",
        "lin_rmse = np.sqrt(lin_mse)\n",
        "lin_rmse"
      ],
      "execution_count": null,
      "outputs": [
        {
          "output_type": "execute_result",
          "data": {
            "text/plain": [
              "68628.19819848923"
            ]
          },
          "metadata": {
            "tags": []
          },
          "execution_count": 23
        }
      ]
    },
    {
      "cell_type": "markdown",
      "metadata": {
        "id": "tpzYNnHgUnog"
      },
      "source": [
        "Okay, this is better than nothing but clearly not a great score: most districts’\n",
        "median_housing_values range between $120,000 and $265,000, so a typical prediction error of $68,628 is not very satisfying. This is an example of a model underfitting\n",
        "the training data. When this happens it can mean that the features do not provide\n",
        "enough information to make good predictions, or that the model is not powerful\n",
        "enough."
      ]
    },
    {
      "cell_type": "markdown",
      "metadata": {
        "id": "3AXUUNjmXWJE"
      },
      "source": [
        "**Let’s train a DecisionTreeRegressor . This is a powerful model, capable of finding complex nonlinear relationships in the data**\n"
      ]
    },
    {
      "cell_type": "code",
      "metadata": {
        "colab": {
          "base_uri": "https://localhost:8080/"
        },
        "id": "K1Gcs73JUewv",
        "outputId": "15994271-aba2-4fad-e90a-4886df919064"
      },
      "source": [
        "from sklearn.tree import DecisionTreeRegressor\n",
        "tree_reg = DecisionTreeRegressor()\n",
        "tree_reg.fit(housing_prepared, housing_labels)"
      ],
      "execution_count": null,
      "outputs": [
        {
          "output_type": "execute_result",
          "data": {
            "text/plain": [
              "DecisionTreeRegressor(ccp_alpha=0.0, criterion='mse', max_depth=None,\n",
              "                      max_features=None, max_leaf_nodes=None,\n",
              "                      min_impurity_decrease=0.0, min_impurity_split=None,\n",
              "                      min_samples_leaf=1, min_samples_split=2,\n",
              "                      min_weight_fraction_leaf=0.0, presort='deprecated',\n",
              "                      random_state=None, splitter='best')"
            ]
          },
          "metadata": {
            "tags": []
          },
          "execution_count": 24
        }
      ]
    },
    {
      "cell_type": "code",
      "metadata": {
        "colab": {
          "base_uri": "https://localhost:8080/"
        },
        "id": "ojDw9KHDU0wv",
        "outputId": "ba16ca90-2bc1-43df-9087-d53828244edf"
      },
      "source": [
        "housing_predictions = tree_reg.predict(housing_prepared)\n",
        "tree_mse = mean_squared_error(housing_labels, housing_predictions)\n",
        "tree_rmse = np.sqrt(tree_mse)\n",
        "tree_rmse"
      ],
      "execution_count": null,
      "outputs": [
        {
          "output_type": "execute_result",
          "data": {
            "text/plain": [
              "0.0"
            ]
          },
          "metadata": {
            "tags": []
          },
          "execution_count": 25
        }
      ]
    },
    {
      "cell_type": "markdown",
      "metadata": {
        "id": "STMYAnWsVJrb"
      },
      "source": [
        "No error at all? Could this model really be absolutely perfect? Of course,\n",
        "it is much more likely that the model has badly overfit the data. How can you be sure?\n",
        "As we saw earlier, you don’t want to touch the test set until you are ready to launch a\n",
        "model you are confident about, so you need to use part of the training set for train‐\n",
        "ing, and part for model validation."
      ]
    },
    {
      "cell_type": "markdown",
      "metadata": {
        "id": "gzegyL7jVRKF"
      },
      "source": [
        "\n",
        "\n",
        "\n",
        "**Better Evaluation Using Cross-Validation**\n",
        "\n",
        "One way to evaluate the Decision Tree model would be to use the train_test_split\n",
        "function to split the training set into a smaller training set and a validation set, then\n",
        "train your models against the smaller training set and evaluate them against the validation\n",
        "set. but thats a lengthy process and difficult. alternative to this is to use to use Scikit-Learn’s K-fold cross-validation feature"
      ]
    },
    {
      "cell_type": "code",
      "metadata": {
        "id": "fT7EhDs0VIBb"
      },
      "source": [
        "# The below code randomly splits the training set into 10 distinct subsets called folds, then it\r\n",
        "# trains and evaluates the Decision Tree model 10 times, picking a different fold for evaluation every time and training on the other 9 folds. \r\n",
        "# The result is an array containing the 10 evaluation scores:\r\n",
        "\r\n",
        "from sklearn.model_selection import cross_val_score\r\n",
        "scores = cross_val_score(tree_reg, housing_prepared, housing_labels,\r\n",
        "scoring=\"neg_mean_squared_error\", cv=10)\r\n",
        "tree_rmse_scores = np.sqrt(-scores)\r\n",
        "\r\n"
      ],
      "execution_count": null,
      "outputs": []
    },
    {
      "cell_type": "markdown",
      "metadata": {
        "id": "vt7yH4ccXlcR"
      },
      "source": [
        "Scikit-Learn’s cross-validation features expect a utility function (greater is better) rather than a cost function (lower is better), so\n",
        "the scoring function is actually the opposite of the MSE (i.e., a negative value), which is why the preceding code computes -scores\n",
        "before calculating the square root."
      ]
    },
    {
      "cell_type": "code",
      "metadata": {
        "colab": {
          "base_uri": "https://localhost:8080/"
        },
        "id": "jd3EPoCxFUbJ",
        "outputId": "861577f6-506f-4a44-c0f6-4198b90f18b4"
      },
      "source": [
        "#lets check results\r\n",
        "def display_scores(scores):\r\n",
        "  print(\"Scores:\", scores)\r\n",
        "  print(\"Mean:\", scores.mean())\r\n",
        "  print(\"Standard deviation:\", scores.std())\r\n",
        "display_scores(tree_rmse_scores)"
      ],
      "execution_count": null,
      "outputs": [
        {
          "output_type": "stream",
          "text": [
            "Scores: [68231.31472156 67627.26368758 70077.24065068 69107.85841194\n",
            " 70875.42497039 75028.88018668 70600.81810647 70494.11494985\n",
            " 76995.1495372  69105.35202093]\n",
            "Mean: 70814.34172432795\n",
            "Standard deviation: 2816.4185122176577\n"
          ],
          "name": "stdout"
        }
      ]
    },
    {
      "cell_type": "markdown",
      "metadata": {
        "id": "_4TOwR8FXsSK"
      },
      "source": [
        "\n",
        "\n",
        "\n",
        "Now Decision Tree doesn’t look as good as it did earlier. In fact, it seems to perform worse than the Linear Regression model. Notice that cross-validation allows you to get not only an estimate of the performance of your model, but also a measure of how precise this estimate is (i.e., its standard deviation). The Decision Tree has a score of approximately 71,407, generally ±2,439."
      ]
    },
    {
      "cell_type": "markdown",
      "metadata": {
        "id": "oW4X5u7InBsz"
      },
      "source": [
        "lets try with one last model - RF. Random Forests work by training many Decision Trees on random subsets of\n",
        "the features, then averaging out their predictions. Building a model on top of many\n",
        "other models is called Ensemble Learning"
      ]
    },
    {
      "cell_type": "code",
      "metadata": {
        "colab": {
          "base_uri": "https://localhost:8080/"
        },
        "id": "N6y6Qy5cqV-K",
        "outputId": "3a4b2ac8-4085-437c-8499-dc8d58f5ee4b"
      },
      "source": [
        "from sklearn.ensemble import RandomForestRegressor\n",
        "forest_reg = RandomForestRegressor()\n",
        "forest_reg.fit(housing_prepared, housing_labels)"
      ],
      "execution_count": null,
      "outputs": [
        {
          "output_type": "execute_result",
          "data": {
            "text/plain": [
              "RandomForestRegressor(bootstrap=True, ccp_alpha=0.0, criterion='mse',\n",
              "                      max_depth=None, max_features='auto', max_leaf_nodes=None,\n",
              "                      max_samples=None, min_impurity_decrease=0.0,\n",
              "                      min_impurity_split=None, min_samples_leaf=1,\n",
              "                      min_samples_split=2, min_weight_fraction_leaf=0.0,\n",
              "                      n_estimators=100, n_jobs=None, oob_score=False,\n",
              "                      random_state=None, verbose=0, warm_start=False)"
            ]
          },
          "metadata": {
            "tags": []
          },
          "execution_count": 28
        }
      ]
    },
    {
      "cell_type": "markdown",
      "metadata": {
        "id": "NOXnU8NarKbC"
      },
      "source": [
        "Similarly you should try with many algos . The goal is to shortlist a few\n",
        "(two to five) promising models."
      ]
    },
    {
      "cell_type": "markdown",
      "metadata": {
        "id": "-bpF8eaHro84"
      },
      "source": [
        "You should save every model you experiment with, so you can\n",
        "come back easily to any model you want. Make sure you save both\n",
        "the hyperparameters and the trained parameters, as well as the\n",
        "cross-validation scores and perhaps the actual predictions as well.\n",
        "This will allow you to easily compare scores across model types,\n",
        "and compare the types of errors they make. "
      ]
    },
    {
      "cell_type": "markdown",
      "metadata": {
        "id": "uEYW3m0TYN-1"
      },
      "source": [
        "\n",
        "\n",
        "You can easily save\n",
        "Scikit-Learn models by using Python’s pickle module, or using\n",
        "sklearn.externals.joblib , which is more efficient at serializing\n",
        "large NumPy arrays:"
      ]
    },
    {
      "cell_type": "code",
      "metadata": {
        "id": "Ui5PrWI1qp-H"
      },
      "source": [
        "from sklearn.externals import joblib\n",
        "joblib.dump(my_model, \"my_model.pkl\")\n",
        "my_model_loaded = joblib.load(\"my_model.pkl\")"
      ],
      "execution_count": null,
      "outputs": []
    }
  ]
}